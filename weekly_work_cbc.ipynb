{
  "nbformat": 4,
  "nbformat_minor": 0,
  "metadata": {
    "colab": {
      "provenance": [],
      "authorship_tag": "ABX9TyMZBDbVyO2mQusAD1umCzy2",
      "include_colab_link": true
    },
    "kernelspec": {
      "name": "python3",
      "display_name": "Python 3"
    },
    "language_info": {
      "name": "python"
    }
  },
  "cells": [
    {
      "cell_type": "markdown",
      "metadata": {
        "id": "view-in-github",
        "colab_type": "text"
      },
      "source": [
        "<a href=\"https://colab.research.google.com/github/Phimphika113/sobeam_year4/blob/main/weekly_work_cbc.ipynb\" target=\"_parent\"><img src=\"https://colab.research.google.com/assets/colab-badge.svg\" alt=\"Open In Colab\"/></a>"
      ]
    },
    {
      "cell_type": "code",
      "execution_count": 21,
      "metadata": {
        "id": "CTRhQoorNNRA"
      },
      "outputs": [],
      "source": [
        "!pip install -q pyomo ## ติดตั้ง Pyomo\n",
        "from pyomo.environ import *\n",
        "from pyomo.opt import SolverFactory"
      ]
    },
    {
      "cell_type": "code",
      "source": [
        "# Define days (1 week)\n",
        "days = ['Mon', 'Tue', 'Wed', 'Thu', 'Fri', 'Sat', 'Sun']\n",
        "\n",
        "# Enter shifts of each day\n",
        "shifts = ['morning', 'evening', 'night']  # 3 shifts of 8 hours\n",
        "days_shifts = {day: shifts for day in days}  # dict with day as key and list of its shifts as value\n",
        "\n",
        "# Enter workers ids (name, number, ...)\n",
        "workers = ['W' + str(i) for i in range(1, 11)]  # 10 workers available, more than needed"
      ],
      "metadata": {
        "id": "05NCetT0NTF9"
      },
      "execution_count": 22,
      "outputs": []
    },
    {
      "cell_type": "code",
      "source": [
        "# Initialize model\n",
        "model = ConcreteModel()\n",
        "\n",
        "# binary variables representing if a worker is scheduled somewhere\n",
        "model.works = Var(((worker, day, shift) for worker in workers for day in days for shift in days_shifts[day]),\n",
        "                  within=Binary, initialize=0)\n",
        "\n",
        "# binary variables representing if a worker is necessary\n",
        "model.needed = Var(workers, within=Binary, initialize=0)\n",
        "\n",
        "# binary variables representing if a worker worked on sunday but not on saturday (avoid if possible)\n",
        "model.no_pref = Var(workers, within=Binary, initialize=0)"
      ],
      "metadata": {
        "id": "zAzjgHD6NW7v"
      },
      "execution_count": 23,
      "outputs": []
    },
    {
      "cell_type": "code",
      "source": [
        "# Define an objective function with model as input, to pass later\n",
        "def obj_rule(m):\n",
        "    c = len(workers)\n",
        "    return sum(m.no_pref[worker] for worker in workers) + sum(c * m.needed[worker] for worker in workers)\n",
        "# we multiply the second term by a constant to make sure that it is the primary objective\n",
        "# since sum(m.no_prefer) is at most len(workers), len(workers) + 1 is a valid constant.\n",
        "\n",
        "\n",
        "# add objective function to the model. rule (pass function) or expr (pass expression directly)\n",
        "model.obj = Objective(rule=obj_rule, sense=minimize)"
      ],
      "metadata": {
        "id": "v6BSsvhnNhiI"
      },
      "execution_count": 24,
      "outputs": []
    },
    {
      "cell_type": "code",
      "source": [
        "model.constraints = ConstraintList()  # Create a set of constraints\n",
        "\n",
        "# Constraint: all shifts are assigned\n",
        "for day in days:\n",
        "    for shift in days_shifts[day]:\n",
        "        if day in days[:-1] and shift in ['morning', 'evening']:\n",
        "            # weekdays' and Saturdays' day shifts have exactly two workers\n",
        "            model.constraints.add(  # to add a constraint to model.constraints set\n",
        "                2 == sum(model.works[worker, day, shift] for worker in workers)\n",
        "            )\n",
        "        else:\n",
        "            # Sundays' and nights' shifts have exactly one worker\n",
        "            model.constraints.add(\n",
        "                1 == sum(model.works[worker, day, shift] for worker in workers)\n",
        "            )\n",
        "\n",
        "# Constraint: no more than 40 hours worked\n",
        "for worker in workers:\n",
        "    model.constraints.add(\n",
        "        40 >= sum(8 * model.works[worker, day, shift] for day in days for shift in days_shifts[day])\n",
        "    )\n",
        "\n",
        "# Constraint: rest between two shifts is of 12 hours (i.e., at least two shifts)\n",
        "for worker in workers:\n",
        "    for j in range(len(days)):\n",
        "        # if working in morning, cannot work again that day\n",
        "        model.constraints.add(\n",
        "            1 >= sum(model.works[worker, days[j], shift] for shift in days_shifts[days[j]])\n",
        "        )\n",
        "        # if working in evening, until next evening (note that after sunday comes next monday)\n",
        "        model.constraints.add(\n",
        "            1 >= sum(model.works[worker, days[j], shift] for shift in ['evening', 'night']) +\n",
        "            model.works[worker, days[(j + 1) % 7], 'morning']\n",
        "        )\n",
        "        # if working in night, until next night\n",
        "        model.constraints.add(\n",
        "            1 >= model.works[worker, days[j], 'night'] +\n",
        "            sum(model.works[worker, days[(j + 1) % 7], shift] for shift in ['morning', 'evening'])\n",
        "        )\n",
        "\n",
        "# Constraint (def of model.needed)\n",
        "for worker in workers:\n",
        "    model.constraints.add(\n",
        "        10000 * model.needed[worker] >= sum(model.works[worker, day, shift] for day in days for shift in days_shifts[day])\n",
        "    )  # if any model.works[worker, ·, ·] non-zero, model.needed[worker] must be one; else is zero to reduce the obj function\n",
        "    # 10000 is to remark, but 5 was enough since max of 40 hours yields max of 5 shifts, the maximum possible sum\n",
        "\n",
        "# Constraint (def of model.no_pref)\n",
        "for worker in workers:\n",
        "    model.constraints.add(\n",
        "        model.no_pref[worker] >= sum(model.works[worker, 'Sat', shift] for shift in days_shifts['Sat'])\n",
        "        - sum(model.works[worker, 'Sun', shift] for shift in days_shifts['Sun'])\n",
        "    )  # if not working on sunday but working saturday model.needed must be 1; else will be zero to reduce the obj function"
      ],
      "metadata": {
        "id": "wf9F4EpRNpLC"
      },
      "execution_count": 25,
      "outputs": []
    },
    {
      "cell_type": "code",
      "source": [],
      "metadata": {
        "id": "s1GSphV1PDok"
      },
      "execution_count": null,
      "outputs": []
    },
    {
      "cell_type": "code",
      "source": [
        "!apt install -y coinor-cbc  # Install the CBC solver, suppress output with -y flag\n",
        "import os\n",
        "os.environ['PATH'] += ':/usr/bin'  # Add common solver location to PATH\n",
        "\n",
        "from pyomo.environ import SolverFactory, ConcreteModel, Var, Binary, Objective, ConstraintList, minimize\n",
        "# ... rest of your code ...\n",
        "\n",
        "opt = SolverFactory('cbc')  # choose a solver\n",
        "\n",
        "# Verify the solver installation\n",
        "if opt.available():\n",
        "    results = opt.solve(model)  # solve the model with the selected solver\n",
        "    print(\"Solver found, problem solved.\")\n",
        "else:\n",
        "    print(\"CBC solver not found. Check installation and PATH.\")\n",
        "    # Optionally, try to locate the executable:\n",
        "    import shutil\n",
        "    cbc_path = shutil.which('cbc')\n",
        "    if cbc_path:\n",
        "        print(\"CBC executable found at:\", cbc_path)\n",
        "        os.environ['PATH'] += ':' + os.path.dirname(cbc_path)  # Add the directory to PATH\n",
        "        opt = SolverFactory('cbc')  # Try creating the solver object again\n",
        "        if opt.available():\n",
        "            results = opt.solve(model)\n",
        "            print(\"Problem solved after updating PATH.\")\n",
        "        else:\n",
        "            print(\"Still unable to use CBC solver.\")\n",
        "    else:\n",
        "        print(\"CBC executable not found in the system.\")"
      ],
      "metadata": {
        "colab": {
          "base_uri": "https://localhost:8080/"
        },
        "id": "8jax0QsFOQdl",
        "outputId": "40f6a920-027b-46d1-e90c-95d03e5eeccf"
      },
      "execution_count": 26,
      "outputs": [
        {
          "output_type": "stream",
          "name": "stdout",
          "text": [
            "Reading package lists... Done\n",
            "Building dependency tree... Done\n",
            "Reading state information... Done\n",
            "coinor-cbc is already the newest version (2.10.7+ds1-1).\n",
            "0 upgraded, 0 newly installed, 0 to remove and 49 not upgraded.\n",
            "CBC solver not found. Check installation and PATH.\n",
            "CBC executable found at: /usr/bin/cbc\n",
            "Still unable to use CBC solver.\n"
          ]
        }
      ]
    },
    {
      "cell_type": "code",
      "source": [
        "def get_workers_needed(needed):\n",
        "    \"\"\"Extract to a list the needed workers for the optimal solution.\"\"\"\n",
        "    workers_needed = []\n",
        "    for worker in workers:\n",
        "        if needed[worker].value == 1:\n",
        "            workers_needed.append(worker)\n",
        "    return workers_needed\n",
        "\n",
        "\n",
        "def get_work_table(works):\n",
        "    \"\"\"Build a timetable of the week as a dictionary from the model's optimal solution.\"\"\"\n",
        "    week_table = {day: {shift: [] for shift in days_shifts[day]} for day in days}\n",
        "    for worker in workers:\n",
        "        for day in days:\n",
        "            for shift in days_shifts[day]:\n",
        "                    if works[worker, day, shift].value == 1:\n",
        "                        week_table[day][shift].append(worker)\n",
        "    return week_table\n",
        "\n",
        "\n",
        "def get_no_preference(no_pref):\n",
        "    \"\"\"Extract to a list the workers not satisfied with their weekend preference.\"\"\"\n",
        "    return [worker for worker in workers if no_pref[worker].value == 1]\n",
        "\n",
        "\n",
        "workers_needed = get_workers_needed(model.needed)  # dict with the optimal timetable\n",
        "week_table = get_work_table(model.works)  # list with the required workers\n",
        "workers_no_pref = get_no_preference(model.no_pref)  # list with the non-satisfied workers (work on Sat but not on Sun)"
      ],
      "metadata": {
        "id": "955EagQwOmDb"
      },
      "execution_count": 27,
      "outputs": []
    },
    {
      "cell_type": "code",
      "source": [
        "import json"
      ],
      "metadata": {
        "id": "VeveuTfSOphw"
      },
      "execution_count": 28,
      "outputs": []
    },
    {
      "cell_type": "code",
      "source": [
        "print('Workers needed:')\n",
        "[print('  ' + worker) for worker in workers_needed];"
      ],
      "metadata": {
        "colab": {
          "base_uri": "https://localhost:8080/"
        },
        "id": "uqsR7v51Osja",
        "outputId": "632ab8d9-4c51-4e87-9488-59c52329f055"
      },
      "execution_count": 29,
      "outputs": [
        {
          "output_type": "stream",
          "name": "stdout",
          "text": [
            "Workers needed:\n"
          ]
        }
      ]
    },
    {
      "cell_type": "code",
      "source": [
        "print('Work schedule:')\n",
        "print(json.dumps(week_table, indent=2))"
      ],
      "metadata": {
        "colab": {
          "base_uri": "https://localhost:8080/"
        },
        "id": "yBoUocd9OvEc",
        "outputId": "5ca29925-3d09-408d-b187-d1a3768d5a2e"
      },
      "execution_count": 30,
      "outputs": [
        {
          "output_type": "stream",
          "name": "stdout",
          "text": [
            "Work schedule:\n",
            "{\n",
            "  \"Mon\": {\n",
            "    \"morning\": [],\n",
            "    \"evening\": [],\n",
            "    \"night\": []\n",
            "  },\n",
            "  \"Tue\": {\n",
            "    \"morning\": [],\n",
            "    \"evening\": [],\n",
            "    \"night\": []\n",
            "  },\n",
            "  \"Wed\": {\n",
            "    \"morning\": [],\n",
            "    \"evening\": [],\n",
            "    \"night\": []\n",
            "  },\n",
            "  \"Thu\": {\n",
            "    \"morning\": [],\n",
            "    \"evening\": [],\n",
            "    \"night\": []\n",
            "  },\n",
            "  \"Fri\": {\n",
            "    \"morning\": [],\n",
            "    \"evening\": [],\n",
            "    \"night\": []\n",
            "  },\n",
            "  \"Sat\": {\n",
            "    \"morning\": [],\n",
            "    \"evening\": [],\n",
            "    \"night\": []\n",
            "  },\n",
            "  \"Sun\": {\n",
            "    \"morning\": [],\n",
            "    \"evening\": [],\n",
            "    \"night\": []\n",
            "  }\n",
            "}\n"
          ]
        }
      ]
    },
    {
      "cell_type": "code",
      "source": [
        "print('Workers not satisfied by weekend condition:')\n",
        "[print('  ' + worker) for worker in workers_no_pref];"
      ],
      "metadata": {
        "colab": {
          "base_uri": "https://localhost:8080/"
        },
        "id": "UrCIQ9OLO12y",
        "outputId": "7061c934-4197-4794-dd6d-8d297b20b642"
      },
      "execution_count": 31,
      "outputs": [
        {
          "output_type": "stream",
          "name": "stdout",
          "text": [
            "Workers not satisfied by weekend condition:\n"
          ]
        }
      ]
    },
    {
      "cell_type": "code",
      "source": [
        "print('Objective value:', model.obj())"
      ],
      "metadata": {
        "colab": {
          "base_uri": "https://localhost:8080/"
        },
        "id": "Um70SPaBO3xZ",
        "outputId": "192e52bf-01a5-448e-fbba-0163d17dd610"
      },
      "execution_count": 32,
      "outputs": [
        {
          "output_type": "stream",
          "name": "stdout",
          "text": [
            "Objective value: 0\n"
          ]
        }
      ]
    }
  ]
}