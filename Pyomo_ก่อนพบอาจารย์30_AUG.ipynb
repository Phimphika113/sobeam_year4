{
  "nbformat": 4,
  "nbformat_minor": 0,
  "metadata": {
    "colab": {
      "provenance": [],
      "toc_visible": true,
      "include_colab_link": true
    },
    "kernelspec": {
      "name": "python3",
      "display_name": "Python 3"
    },
    "language_info": {
      "name": "python"
    }
  },
  "cells": [
    {
      "cell_type": "markdown",
      "metadata": {
        "id": "view-in-github",
        "colab_type": "text"
      },
      "source": [
        "<a href=\"https://colab.research.google.com/github/Phimphika113/sobeam_year4/blob/main/Pyomo_%E0%B8%81%E0%B9%88%E0%B8%AD%E0%B8%99%E0%B8%9E%E0%B8%9A%E0%B8%AD%E0%B8%B2%E0%B8%88%E0%B8%B2%E0%B8%A3%E0%B8%A2%E0%B9%8C30_AUG.ipynb\" target=\"_parent\"><img src=\"https://colab.research.google.com/assets/colab-badge.svg\" alt=\"Open In Colab\"/></a>"
      ]
    },
    {
      "cell_type": "markdown",
      "source": [
        "##1. ติดตั้ง Pyomo และ Solver"
      ],
      "metadata": {
        "id": "s626EibsUbz-"
      }
    },
    {
      "cell_type": "code",
      "execution_count": 45,
      "metadata": {
        "colab": {
          "base_uri": "https://localhost:8080/"
        },
        "id": "VdJcs6QMUZXh",
        "outputId": "9bfe9d6f-f3df-41ae-8063-a96a6d91a7a4"
      },
      "outputs": [
        {
          "output_type": "stream",
          "name": "stdout",
          "text": [
            "Reading package lists... Done\n",
            "Building dependency tree... Done\n",
            "Reading state information... Done\n",
            "glpk-utils is already the newest version (5.0-1).\n",
            "0 upgraded, 0 newly installed, 0 to remove and 49 not upgraded.\n"
          ]
        }
      ],
      "source": [
        "!pip install -q pyomo ## ติดตั้ง Pyomo\n",
        "!apt-get install -y glpk-utils  ##Solver"
      ]
    },
    {
      "cell_type": "markdown",
      "source": [
        "##2. นำเข้าไลบรารีที่จำเป็น\n"
      ],
      "metadata": {
        "id": "oWLH8cSwUsui"
      }
    },
    {
      "cell_type": "code",
      "source": [
        "from pyomo.environ import *\n"
      ],
      "metadata": {
        "id": "LJgiIaoIUz3I"
      },
      "execution_count": 46,
      "outputs": []
    },
    {
      "cell_type": "markdown",
      "source": [
        "##3. กำหนดข้อมูลพื้นฐาน"
      ],
      "metadata": {
        "id": "XSdkVpEUU37n"
      }
    },
    {
      "cell_type": "code",
      "source": [
        "# กำหนดจำนวนพยาบาลและจำนวนวัน\n",
        "n = 17  # จำนวนพยาบาล\n",
        "D = 31  # จำนวนวันในเดือน\n",
        "\n",
        "# สร้างกลุ่มข้อมูล\n",
        "nurses = range(1, n+1)  # พยาบาล (index: 1 ถึง n)\n",
        "shifts = [1, 2, 3]      # ผลัด: 1=เช้า, 2=บ่าย, 3=ดึก\n",
        "days = range(1, D+1)    # จำนวนวันในเดือน (index: 1 ถึง D)\n"
      ],
      "metadata": {
        "id": "mmuRuskCU6qI"
      },
      "execution_count": 47,
      "outputs": []
    },
    {
      "cell_type": "markdown",
      "source": [
        "##4. กำหนดข้อมูลของพยาบาลแต่ละคน\n"
      ],
      "metadata": {
        "id": "ewF0WIRGVAHA"
      }
    },
    {
      "cell_type": "code",
      "source": [
        "# สร้าง dictionary ที่เก็บข้อมูลพยาบาลแต่ละคน\n",
        "Mij = {(i, j): 0 for i in nurses for j in days}  # พยาบาลขอหยุดทำงานในวันนั้นๆ\n",
        "Bij = {(i, j): 0 for i in nurses for j in days}  # พยาบาลลาพักร้อน\n",
        "di = {i: 0 for i in nurses}                          # พยาบาลที่มีโรคประจำตัว\n",
        "ages = {i: 0 for i in nurses}                      # อายุของพยาบาล\n",
        "work_experience = {i: 0 for i in nurses}     # อายุการทำงานของพยาบาล\n"
      ],
      "metadata": {
        "id": "9WNPHX_AVHmb"
      },
      "execution_count": 48,
      "outputs": []
    },
    {
      "cell_type": "code",
      "source": [
        "# การกำหนดข้อมูล (สมมติ) กำหนดวันขอหยุด\n",
        "nurses_days_off = {\n",
        "    1: [5, 10],          # พยาบาลที่ 1 หยุดวันที่ 5 และ 10\n",
        "    2: [15],          # พยาบาลที่ 2 หยุดวันที่ 15\n",
        "    3: [20, 25],\n",
        "    4: [3, 12],\n",
        "    5: [8, 18],\n",
        "    6: [1, 14],\n",
        "    7: [7],\n",
        "    8: [16, 24],\n",
        "    9: [2, 11],\n",
        "    10: [9, 19],\n",
        "    11: [4, 22],\n",
        "    12: [6, 13],\n",
        "    13: [17],\n",
        "    14: [21, 26],\n",
        "    15: [23],\n",
        "    16: [5, 20],\n",
        "    17: [12, 27],\n",
        "    }\n",
        "# ใช้ลูปเพื่อกำหนดวันหยุดให้กับพยาบาลหลายคน\n",
        "for nurse_id, days_off in nurses_days_off.items():\n",
        "    for day in days_off:\n",
        "        Mij[(nurse_id, day)] = 1"
      ],
      "metadata": {
        "id": "HaILFmxpJe0g"
      },
      "execution_count": 49,
      "outputs": []
    },
    {
      "cell_type": "code",
      "source": [
        "# กำหนดวันลาพักร้อน\n",
        "nurses_vacation = {\n",
        "\n",
        "\n",
        "    1: [6, 21],               # พยาบาลที่ 1 ลาพักร้อนวันที่ 6 และ 21\n",
        "    2: [10, 27],\n",
        "    3: [4, 15],\n",
        "    4: [8, 18],\n",
        "    5: [12],\n",
        "    6: [14, 22],\n",
        "    7: [7, 25],\n",
        "    8: [13],\n",
        "    9: [9, 24],\n",
        "    10: [3],\n",
        "    11: [11, 19],\n",
        "    12: [16],\n",
        "    13: [1, 20],\n",
        "    14: [5, 30],\n",
        "    15: [17],\n",
        "    16: [23],\n",
        "    17: [6, 26],\n",
        "    }\n",
        "\n",
        "# ใช้ลูปเพื่อกำหนดวันลาพักร้อน\n",
        "for nurse_id, vacation_days in nurses_vacation.items():\n",
        "    for day in vacation_days:\n",
        "        Bij[(nurse_id, day)] = 1"
      ],
      "metadata": {
        "id": "UzkudXfS8m5y"
      },
      "execution_count": 50,
      "outputs": []
    },
    {
      "cell_type": "code",
      "source": [
        "# กำหนดพยาบาลที่มีโรคประจำตัว\n",
        "nurses_with_conditions = {\n",
        "\n",
        "    1: 1,          #พยาบาลที่ 1 มีโรคประจำตัว\n",
        "    2: 1,\n",
        "    3: 0,\n",
        "    4: 0,\n",
        "    5: 0,\n",
        "    6: 0,\n",
        "    7: 0,\n",
        "    8: 0,\n",
        "    9: 0,\n",
        "    10: 0,\n",
        "    11: 0,\n",
        "    12: 0,\n",
        "    13: 0,\n",
        "    14: 0,\n",
        "    15: 0,\n",
        "    16: 0,\n",
        "    17: 0,\n",
        "}\n",
        "# ใช้ลูปเพื่อกำหนดพยาบาลที่มีโรคประจำตัว\n",
        "for nurse_id, condition in nurses_with_conditions.items():\n",
        "    di[nurse_id] = condition"
      ],
      "metadata": {
        "id": "-j9yh6Yg8wWI"
      },
      "execution_count": 51,
      "outputs": []
    },
    {
      "cell_type": "code",
      "source": [
        "# กำหนดอายุพยาบาล\n",
        "ages = {\n",
        "\n",
        "\n",
        "    1: 55,  #พยาบาลที่ 1 อายุ 55 ปี\n",
        "    2: 56,\n",
        "    3: 45,\n",
        "    4: 40,\n",
        "    5: 39,\n",
        "    6: 38,\n",
        "    7: 45,\n",
        "    8: 32,\n",
        "    9: 36,\n",
        "    10: 45,\n",
        "    11: 35,\n",
        "    12: 37,\n",
        "    13: 35,\n",
        "    14: 35,\n",
        "    15: 24,\n",
        "    16: 24,\n",
        "    17: 23,\n",
        "}\n",
        "# ใช้ลูปเพื่อกำหนดอายุของพยาบาล\n",
        "for nurse_id, age in ages.items():\n",
        "    ages[nurse_id] = age"
      ],
      "metadata": {
        "id": "T_xZ7miC_bpT"
      },
      "execution_count": 52,
      "outputs": []
    },
    {
      "cell_type": "code",
      "source": [
        "#กำหนดอายุงานพยาบาล\n",
        "work_experience = {\n",
        "    1: 18,  # พยาบาลคนที่ 1 มีอายุการทำงาน 5 ปี\n",
        "    2: 18,  # พยาบาลคนที่ 2 มีอายุการทำงาน 1 ปี\n",
        "    3: 15, # พยาบาลคนที่ 3 มีอายุการทำงาน 10 ปี\n",
        "    4: 14,\n",
        "    5: 14,\n",
        "    6: 12,\n",
        "    7: 15,\n",
        "    8: 10,\n",
        "    9: 9,\n",
        "    10: 12,\n",
        "    11: 10,\n",
        "    12: 9,\n",
        "    13: 8,\n",
        "    14: 6,\n",
        "    15: 1,\n",
        "    16: 1,\n",
        "    17: 1,\n",
        "}\n"
      ],
      "metadata": {
        "id": "Ec3L8aFwHeYK"
      },
      "execution_count": 53,
      "outputs": []
    },
    {
      "cell_type": "markdown",
      "source": [
        "##5. สร้างโมเดล"
      ],
      "metadata": {
        "id": "GMnX_wuwVUyq"
      }
    },
    {
      "cell_type": "code",
      "source": [
        "# prompt: # สร้างโมเดล\n",
        "# model = ConcreteModel()\n",
        "# # กำหนดตัวแปรตัดสินใจ (Decision Variables)\n",
        "# model.X = Var(nurses, days, shifts, within=Binary)  # ตัวแปรการทำงานในผลัดปกติ\n",
        "# model.Z = Var(nurses, days, shifts, within=Binary)  # ตัวแปรการทำงานในผลัดล่วงเวลา\n",
        "# # กำหนดพารามิเตอร์ใน Pyomo โดยใช้ข้อมูลที่เตรียมไว้\n",
        "# model.M = Param(nurses, days, initialize=Mij, within=Binary)\n",
        "# model.B = Param(nurses, days, initialize=Bi\n",
        "\n",
        "# สร้างโมเดล\n",
        "model = ConcreteModel()\n",
        "\n",
        "# กำหนดตัวแปรตัดสินใจ (Decision Variables)\n",
        "model.X = Var(nurses, days, shifts, within=Binary)  # ตัวแปรการทำงานในผลัดปกติ\n",
        "model.Z = Var(nurses, days, shifts, within=Binary)  # ตัวแปรการทำงานในผลัดล่วงเวลา\n",
        "\n",
        "# กำหนดพารามิเตอร์ใน Pyomo โดยใช้ข้อมูลที่เตรียมไว้\n",
        "model.M = Param(nurses, days, initialize=Mij, within=Binary)\n",
        "model.B = Param(nurses, days, initialize=Bij, within=Binary)\n",
        "model.d = Param(nurses, initialize=di, within=Binary)\n",
        "model.ages = Param(nurses, initialize=ages, within=NonNegativeIntegers)\n",
        "model.work_experience = Param(nurses, initialize=work_experience, within=NonNegativeIntegers)\n",
        "\n",
        "# กำหนดตัวแปรที่สำคัญสำหรับการคำนวณ\n",
        "model.NT = Var(nurses, within=NonNegativeIntegers)  # จำนวนผลัดที่พยาบาลทำงาน\n",
        "model.OT = Var(nurses, within=NonNegativeIntegers)  # จำนวนผลัดล่วงเวลาทั้งหมดของพยาบาล\n",
        "\n",
        "# เพิ่มตัวแปรที่ใช้แทนค่า absolute value\n",
        "model.NT_diff = Var(nurses, within=NonNegativeReals)\n",
        "model.OT_diff = Var(nurses, within=NonNegativeReals)"
      ],
      "metadata": {
        "id": "VOg8qmcvVYfF"
      },
      "execution_count": 54,
      "outputs": []
    },
    {
      "cell_type": "code",
      "source": [
        "# กำหนดตัวแปรที่สำคัญสำหรับการคำนวณ\n",
        "#model.NT = Var(nurses, within=NonNegativeIntegers)  # จำนวนผลัดที่พยาบาลทำงาน\n",
        "#model.OT = Var(nurses, within=NonNegativeIntegers)  # จำนวนผลัดล่วงเวลาทั้งหมดของพยาบาล\n",
        "\n",
        "# NT_i: จำนวนผลัดที่พยาบาล i ทำงานใน 1 เดือน\n",
        "#def NT_constraint_rule(model, i):\n",
        "#    return model.NT[i] == sum(model.X[i, j, k] for j in days for k in shifts)\n",
        "#model.NT_constraint = Constraint(nurses, rule=NT_constraint_rule)\n",
        "\n",
        "# OT_i: จำนวนผลัดที่พยาบาล i ทำงานล่วงเวลาใน 1 เดือน\n",
        "#def OT_constraint_rule(model, i):\n",
        " #   return model.OT[i] == sum(model.Z[i, j, k] for j in days for k in shifts)\n",
        "#model.OT_constraint = Constraint(nurses, rule=OT_constraint_rule)\n"
      ],
      "metadata": {
        "id": "SYrrMbLdWl6-"
      },
      "execution_count": 55,
      "outputs": []
    },
    {
      "cell_type": "code",
      "source": [
        "\n",
        "# คำนวณค่าเฉลี่ย\n",
        "alpha = sum(model.NT[i] for i in nurses) / n  # ค่าเฉลี่ยของ NT\n",
        "beta = sum(model.OT[i] for i in nurses) / n  # ค่าเฉลี่ยของ OT"
      ],
      "metadata": {
        "id": "63tMyBvujMKL"
      },
      "execution_count": 56,
      "outputs": []
    },
    {
      "cell_type": "code",
      "source": [
        "# ข้อจำกัดเพื่อให้ตัวแปร NT_diff และ OT_diff แทนค่า abs ได้อย่างถูกต้อง\n",
        "def nt_diff_constraint_rule(model, i):\n",
        "    return model.NT_diff[i] >= model.NT[i] - alpha\n",
        "\n",
        "def ot_diff_constraint_rule(model, i):\n",
        "    return model.OT_diff[i] >= model.OT[i] - beta\n",
        "\n",
        "def nt_diff_constraint_rule_neg(model, i):\n",
        "    return model.NT_diff[i] >= alpha - model.NT[i]\n",
        "\n",
        "def ot_diff_constraint_rule_neg(model, i):\n",
        "    return model.OT_diff[i] >= beta - model.OT[i]\n",
        "\n",
        "model.nt_diff_constraint = Constraint(nurses, rule=nt_diff_constraint_rule)\n",
        "model.ot_diff_constraint = Constraint(nurses, rule=ot_diff_constraint_rule)\n",
        "model.nt_diff_constraint_neg = Constraint(nurses, rule=nt_diff_constraint_rule_neg)\n",
        "model.ot_diff_constraint_neg = Constraint(nurses, rule=ot_diff_constraint_rule_neg)"
      ],
      "metadata": {
        "id": "iyy3vsKtjQ9F"
      },
      "execution_count": 57,
      "outputs": []
    },
    {
      "cell_type": "markdown",
      "source": [
        "##6. สมการวัตถุประสงค์\n"
      ],
      "metadata": {
        "id": "STSF4fi2x53n"
      }
    },
    {
      "cell_type": "code",
      "source": [
        "def objective_rule(model):\n",
        "    return sum(model.NT_diff[i] for i in nurses) + \\\n",
        "           sum(model.OT_diff[i] for i in nurses)\n",
        "\n",
        "model.objective = Objective(rule=objective_rule, sense=minimize)"
      ],
      "metadata": {
        "id": "oJen8MybjePB"
      },
      "execution_count": 58,
      "outputs": []
    },
    {
      "cell_type": "markdown",
      "source": [
        "##7.ข้อจำกัด (Constraints)"
      ],
      "metadata": {
        "id": "UhsFITnU60Dw"
      }
    },
    {
      "cell_type": "code",
      "source": [
        "# ข้อจำกัด 3.1: ในแต่ละผลัดต้องมีพยาบาล 5 คน\n",
        "def constraint_3_1_rule(model, j, k):\n",
        "    return sum(model.X[i, j, k] for i in nurses) == 5\n",
        "model.constraint_3_1 = Constraint(days, shifts, rule=constraint_3_1_rule)\n"
      ],
      "metadata": {
        "id": "jB1_Xf8AXEh1"
      },
      "execution_count": 59,
      "outputs": []
    },
    {
      "cell_type": "code",
      "source": [
        "# ข้อจำกัด 3.2: พยาบาลแต่ละคนทำงานไม่เกิน 5 ผลัดต่อสัปดาห์\n",
        "def constraint_3_2_rule(model, i, g):\n",
        "    return sum(model.X[i, j, k] for j in range(g, g+5) for k in shifts) <= 5\n",
        "model.constraint_3_2 = Constraint(nurses, range(1, D-4), rule=constraint_3_2_rule)\n"
      ],
      "metadata": {
        "id": "QnBIEq0j7aa1",
        "colab": {
          "base_uri": "https://localhost:8080/"
        },
        "outputId": "857632c5-a4f6-4746-8de4-fb4dd0a293ef"
      },
      "execution_count": 44,
      "outputs": [
        {
          "output_type": "stream",
          "name": "stderr",
          "text": [
            "WARNING:pyomo.core:Implicitly replacing the Component attribute constraint_3_2 (type=<class 'pyomo.core.base.constraint.IndexedConstraint'>) on block unknown with a new Component (type=<class 'pyomo.core.base.constraint.IndexedConstraint'>).\n",
            "This is usually indicative of a modelling error.\n",
            "To avoid this warning, use block.del_component() and block.add_component().\n"
          ]
        }
      ]
    },
    {
      "cell_type": "code",
      "source": [
        "# ข้อจำกัด 3.3: ไม่สามารถหยุดพร้อมกันเกิน 4 คนในแต่ละผลัด\n",
        "def constraint_3_3_rule(model, j, k):\n",
        "    return sum(1 - model.X[i, j, k] for i in nurses) <= 4\n",
        "model.constraint_3_3 = Constraint(days, shifts, rule=constraint_3_3_rule)"
      ],
      "metadata": {
        "id": "NM4lK_4m7ed-"
      },
      "execution_count": null,
      "outputs": []
    },
    {
      "cell_type": "code",
      "source": [
        "# ข้อจำกัด 3.4: ห้ามหยุดงานติดกันเกิน 4 วัน\n",
        "def constraint_3_4_rule(model, i, g):\n",
        "    return sum(1 - model.X[i, j, k] for j in range(g, g+5) for k in shifts) <= 4\n",
        "model.constraint_3_4 = Constraint(nurses, range(1, D-4), rule=constraint_3_4_rule)"
      ],
      "metadata": {
        "id": "uT0KSvK89oS7"
      },
      "execution_count": null,
      "outputs": []
    },
    {
      "cell_type": "code",
      "source": [
        "# ข้อจำกัด 3.5: พยาบาลอายุ 50 ปีขึ้นไปต้องทำงานผลัดเช้ามากกว่าผลัดบ่าย\n",
        "age_over_50_or_with_condition = [i for i in nurses if ages[i] >= 50]  # พยาบาลที่อายุ 50 ปีขึ้นไป\n",
        "def constraint_3_5_rule(model, i):\n",
        "    if i in age_over_50_or_with_condition:\n",
        "        return sum(model.X[i, j, 1] for j in days) >= sum(model.X[i, j, 2] for j in days)+1\n",
        "    else:\n",
        "        return Constraint.Skip\n",
        "model.constraint_3_5 = Constraint(nurses, rule=constraint_3_5_rule)"
      ],
      "metadata": {
        "id": "lJuD2f_AA2M7"
      },
      "execution_count": null,
      "outputs": []
    },
    {
      "cell_type": "code",
      "source": [
        "# ข้อจำกัด 3.6: พยาบาลที่มีอายุ 50 ปีขึ้นไป และพยาบาลที่มีโรคประจำตัวต้องห้ามขึ้นเวรดึก (k = 3)\n",
        "def constraint_3_6_rule(model, i, j):\n",
        "    if ages[i] >= 50 or di[i] == 1:\n",
        "        return model.X[i, j, 3] == 0  # ห้ามทำงานเวรดึก\n",
        "    else:\n",
        "        return Constraint.Skip\n",
        "model.constraint_3_6 = Constraint(nurses, days, rule=constraint_3_6_rule)"
      ],
      "metadata": {
        "id": "Ppi9CSmUKa_f"
      },
      "execution_count": null,
      "outputs": []
    },
    {
      "cell_type": "code",
      "source": [
        "# ข้อจำกัด 3.7: พยาบาลห้ามขึ้นเวรดึกติดต่อกันในวันถัดไป\n",
        "def constraint_3_7_rule(model, i, j):\n",
        "    if j < D:  # วันสุดท้ายไม่ต้องเช็ค\n",
        "        return model.X[i, j, 3] + model.X[i, j+1, 3] <= 1\n",
        "    else:\n",
        "        return Constraint.Skip\n",
        "model.constraint_3_7 = Constraint(nurses, days, rule=constraint_3_7_rule)"
      ],
      "metadata": {
        "id": "bZHF7E22KiH5"
      },
      "execution_count": null,
      "outputs": []
    },
    {
      "cell_type": "code",
      "source": [
        "# ข้อจำกัด 3.8: ห้ามพยาบาลที่มีอายุการทำงานไม่เกิน 1 ปี ขึ้นผลัดการทำงานร่วมกัน\n",
        "def constraint_3_8_rule(model, j, k):\n",
        "    return sum(model.X[i, j, k] for i in nurses if work_experience[i] <= 1) <= 1\n",
        "model.constraint_3_8 = Constraint(days, shifts, rule=constraint_3_8_rule)\n"
      ],
      "metadata": {
        "id": "zy1BbNIpKr_a"
      },
      "execution_count": null,
      "outputs": []
    },
    {
      "cell_type": "markdown",
      "source": [
        "#8.เรียกใช้ Solver เพื่อแก้ปัญหา"
      ],
      "metadata": {
        "id": "hxKQDV5JCvPh"
      }
    },
    {
      "cell_type": "code",
      "source": [
        "solver = SolverFactory('glpk')\n",
        "solver.solve(model)"
      ],
      "metadata": {
        "colab": {
          "base_uri": "https://localhost:8080/"
        },
        "id": "j5V0MyZYCuGO",
        "outputId": "90c17a76-f06b-41f0-b42f-0c20c1eeb13f"
      },
      "execution_count": 60,
      "outputs": [
        {
          "output_type": "execute_result",
          "data": {
            "text/plain": [
              "{'Problem': [{'Name': 'unknown', 'Lower bound': 0.0, 'Upper bound': 0.0, 'Number of objectives': 1, 'Number of constraints': 161, 'Number of variables': 1649, 'Number of nonzeros': 2805, 'Sense': 'minimize'}], 'Solver': [{'Status': 'ok', 'Termination condition': 'optimal', 'Statistics': {'Branch and bound': {'Number of bounded subproblems': '1', 'Number of created subproblems': '1'}}, 'Error rc': 0, 'Time': 0.018416881561279297}], 'Solution': [OrderedDict([('number of solutions', 0), ('number of solutions displayed', 0)])]}"
            ]
          },
          "metadata": {},
          "execution_count": 60
        }
      ]
    },
    {
      "cell_type": "markdown",
      "source": [
        "#9.ฟังก์ชันแสดงผลลัพธ์"
      ],
      "metadata": {
        "id": "QYg27D1yC3bl"
      }
    },
    {
      "cell_type": "code",
      "source": [
        "import pandas as pd\n",
        "from pyomo.environ import ConcreteModel, Var, Param, Constraint, Binary, NonNegativeIntegers, Objective, SolverFactory, NonNegativeReals\n",
        "\n",
        "# ... (โค้ดเดิมของคุณสำหรับการสร้างโมเดล)\n",
        "\n",
        "# แก้ไขโมเดลโดยใช้ solver\n",
        "solver = SolverFactory('glpk')  # หรือ solver อื่นๆ ที่คุณต้องการใช้\n",
        "results = solver.solve(model)\n",
        "\n",
        "# สร้าง DataFrame ว่างสำหรับเก็บตารางการทำงาน\n",
        "schedule = pd.DataFrame(index=nurses, columns=days)\n",
        "\n",
        "# กำหนดชื่อของผลัด\n",
        "shifts = {1: \"เช้า\", 2: \"บ่าย\", 3: \"ดึก\"}\n",
        "\n",
        "# เติมข้อมูลลงในตาราง\n",
        "for i in nurses:\n",
        "    for j in days:\n",
        "        for k in shifts:\n",
        "            if model.X[i, j, k].value == 1:  # ถ้าพยาบาลทำงานในผลัดนั้น\n",
        "                schedule.at[i, j] = shifts[k]\n",
        "\n",
        "# แสดงตารางเวลา\n",
        "print(schedule)"
      ],
      "metadata": {
        "id": "JzyY2m8gl3CR",
        "colab": {
          "base_uri": "https://localhost:8080/"
        },
        "outputId": "25b8e309-42c7-45bc-8604-74a77dac3313"
      },
      "execution_count": 61,
      "outputs": [
        {
          "output_type": "stream",
          "name": "stdout",
          "text": [
            "     1    2    3    4    5    6    7    8    9    10  ...   22   23   24   25  \\\n",
            "1   ดึก  ดึก  ดึก  ดึก  ดึก  ดึก  ดึก  ดึก  ดึก  ดึก  ...  ดึก  ดึก  ดึก  ดึก   \n",
            "2   ดึก  ดึก  ดึก  ดึก  ดึก  ดึก  ดึก  ดึก  ดึก  ดึก  ...  ดึก  ดึก  ดึก  ดึก   \n",
            "3   ดึก  ดึก  ดึก  ดึก  ดึก  ดึก  ดึก  ดึก  ดึก  ดึก  ...  ดึก  ดึก  ดึก  ดึก   \n",
            "4   ดึก  ดึก  ดึก  ดึก  ดึก  ดึก  ดึก  ดึก  ดึก  ดึก  ...  ดึก  ดึก  ดึก  ดึก   \n",
            "5   NaN  NaN  NaN  NaN  NaN  NaN  NaN  NaN  NaN  NaN  ...  NaN  NaN  NaN  NaN   \n",
            "6   NaN  NaN  NaN  NaN  NaN  NaN  NaN  NaN  NaN  NaN  ...  NaN  NaN  NaN  NaN   \n",
            "7   NaN  NaN  NaN  NaN  NaN  NaN  NaN  NaN  NaN  NaN  ...  NaN  NaN  NaN  NaN   \n",
            "8   NaN  NaN  NaN  NaN  NaN  NaN  NaN  NaN  NaN  NaN  ...  NaN  NaN  NaN  NaN   \n",
            "9   NaN  NaN  NaN  NaN  NaN  NaN  NaN  NaN  NaN  NaN  ...  NaN  NaN  NaN  NaN   \n",
            "10  NaN  NaN  NaN  NaN  NaN  NaN  NaN  NaN  NaN  NaN  ...  NaN  NaN  NaN  NaN   \n",
            "11  NaN  NaN  NaN  NaN  NaN  NaN  NaN  NaN  NaN  NaN  ...  NaN  NaN  NaN  NaN   \n",
            "12  NaN  NaN  NaN  NaN  NaN  NaN  NaN  NaN  NaN  NaN  ...  NaN  NaN  NaN  NaN   \n",
            "13  NaN  NaN  NaN  NaN  NaN  NaN  NaN  NaN  NaN  NaN  ...  NaN  NaN  NaN  NaN   \n",
            "14  NaN  NaN  NaN  NaN  NaN  NaN  NaN  NaN  NaN  NaN  ...  NaN  NaN  NaN  NaN   \n",
            "15  NaN  NaN  NaN  NaN  NaN  NaN  NaN  NaN  NaN  NaN  ...  NaN  NaN  NaN  NaN   \n",
            "16  NaN  NaN  NaN  NaN  NaN  NaN  NaN  NaN  NaN  NaN  ...  NaN  NaN  NaN  NaN   \n",
            "17  ดึก  ดึก  ดึก  ดึก  ดึก  ดึก  ดึก  ดึก  ดึก  ดึก  ...  ดึก  ดึก  ดึก  ดึก   \n",
            "\n",
            "     26   27   28   29   30   31  \n",
            "1   ดึก  ดึก  ดึก  ดึก  ดึก  ดึก  \n",
            "2   ดึก  ดึก  ดึก  ดึก  ดึก  ดึก  \n",
            "3   ดึก  ดึก  ดึก  ดึก  ดึก  ดึก  \n",
            "4   ดึก  ดึก  ดึก  ดึก  ดึก  ดึก  \n",
            "5   NaN  NaN  NaN  NaN  NaN  NaN  \n",
            "6   NaN  NaN  NaN  NaN  NaN  NaN  \n",
            "7   NaN  NaN  NaN  NaN  NaN  NaN  \n",
            "8   NaN  NaN  NaN  NaN  NaN  NaN  \n",
            "9   NaN  NaN  NaN  NaN  NaN  NaN  \n",
            "10  NaN  NaN  NaN  NaN  NaN  NaN  \n",
            "11  NaN  NaN  NaN  NaN  NaN  NaN  \n",
            "12  NaN  NaN  NaN  NaN  NaN  NaN  \n",
            "13  NaN  NaN  NaN  NaN  NaN  NaN  \n",
            "14  NaN  NaN  NaN  NaN  NaN  NaN  \n",
            "15  NaN  NaN  NaN  NaN  NaN  NaN  \n",
            "16  NaN  NaN  NaN  NaN  NaN  NaN  \n",
            "17  ดึก  ดึก  ดึก  ดึก  ดึก  ดึก  \n",
            "\n",
            "[17 rows x 31 columns]\n"
          ]
        }
      ]
    },
    {
      "cell_type": "code",
      "source": [
        "result = solver.solve(model, tee=True)"
      ],
      "metadata": {
        "colab": {
          "base_uri": "https://localhost:8080/"
        },
        "id": "r9JTiqSx65gw",
        "outputId": "1d77afde-046a-45e1-8ec9-c0804229bb9c"
      },
      "execution_count": null,
      "outputs": [
        {
          "output_type": "stream",
          "name": "stdout",
          "text": [
            "GLPSOL--GLPK LP/MIP Solver 5.0\n",
            "Parameter(s) specified in the command line:\n",
            " --write /tmp/tmp1vke678_.glpk.raw --wglp /tmp/tmpzafiv4ef.glpk.glp --cpxlp\n",
            " /tmp/tmpde9jer8u.pyomo.lp\n",
            "Reading problem data from '/tmp/tmpde9jer8u.pyomo.lp'...\n",
            "/tmp/tmpde9jer8u.pyomo.lp:26274: warning: lower bound of variable 'x139' redefined\n",
            "/tmp/tmpde9jer8u.pyomo.lp:26274: warning: upper bound of variable 'x139' redefined\n",
            "1805 rows, 1649 columns, 19131 non-zeros\n",
            "1615 integer variables, 1581 of which are binary\n",
            "27855 lines were read\n",
            "Writing problem data to '/tmp/tmpzafiv4ef.glpk.glp'...\n",
            "24433 lines were written\n",
            "GLPK Integer Optimizer 5.0\n",
            "1805 rows, 1649 columns, 19131 non-zeros\n",
            "1615 integer variables, 1581 of which are binary\n",
            "Preprocessing...\n",
            "PROBLEM HAS NO PRIMAL FEASIBLE SOLUTION\n",
            "Time used:   0.0 secs\n",
            "Memory used: 2.8 Mb (2988004 bytes)\n",
            "Writing MIP solution to '/tmp/tmp1vke678_.glpk.raw'...\n",
            "3463 lines were written\n"
          ]
        }
      ]
    }
  ]
}