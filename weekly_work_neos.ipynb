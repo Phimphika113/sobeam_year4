{
  "nbformat": 4,
  "nbformat_minor": 0,
  "metadata": {
    "colab": {
      "provenance": [],
      "authorship_tag": "ABX9TyM5ClsG/Y5RM8EgScG8Lx6d",
      "include_colab_link": true
    },
    "kernelspec": {
      "name": "python3",
      "display_name": "Python 3"
    },
    "language_info": {
      "name": "python"
    }
  },
  "cells": [
    {
      "cell_type": "markdown",
      "metadata": {
        "id": "view-in-github",
        "colab_type": "text"
      },
      "source": [
        "<a href=\"https://colab.research.google.com/github/Phimphika113/sobeam_year4/blob/main/weekly_work_neos.ipynb\" target=\"_parent\"><img src=\"https://colab.research.google.com/assets/colab-badge.svg\" alt=\"Open In Colab\"/></a>"
      ]
    },
    {
      "cell_type": "code",
      "source": [
        "!pip install -q pyomo ## ติดตั้ง Pyomo\n",
        "from pyomo.environ import *\n",
        "from pyomo import environ as pe\n",
        "\n",
        "!apt-get install -y glpk-utils  ##Solver\n",
        "solver = pe.SolverFactory('glpk', executable='/user/bin/glpsol')"
      ],
      "metadata": {
        "colab": {
          "base_uri": "https://localhost:8080/"
        },
        "id": "4D0u3xtB_1Nt",
        "outputId": "88438a26-e7d3-4b7d-dfc8-3da22ca81ecb"
      },
      "execution_count": 1,
      "outputs": [
        {
          "output_type": "stream",
          "name": "stdout",
          "text": [
            "\u001b[2K   \u001b[90m━━━━━━━━━━━━━━━━━━━━━━━━━━━━━━━━━━━━━━━━\u001b[0m \u001b[32m13.3/13.3 MB\u001b[0m \u001b[31m22.3 MB/s\u001b[0m eta \u001b[36m0:00:00\u001b[0m\n",
            "\u001b[2K   \u001b[90m━━━━━━━━━━━━━━━━━━━━━━━━━━━━━━━━━━━━━━━━\u001b[0m \u001b[32m49.6/49.6 kB\u001b[0m \u001b[31m383.3 kB/s\u001b[0m eta \u001b[36m0:00:00\u001b[0m\n",
            "Reading package lists... Done\n",
            "Building dependency tree... Done\n",
            "Reading state information... Done\n",
            "The following additional packages will be installed:\n",
            "  libamd2 libcolamd2 libglpk40 libsuitesparseconfig5\n",
            "Suggested packages:\n",
            "  libiodbc2-dev\n",
            "The following NEW packages will be installed:\n",
            "  glpk-utils libamd2 libcolamd2 libglpk40 libsuitesparseconfig5\n",
            "0 upgraded, 5 newly installed, 0 to remove and 49 not upgraded.\n",
            "Need to get 625 kB of archives.\n",
            "After this operation, 2,158 kB of additional disk space will be used.\n",
            "Get:1 http://archive.ubuntu.com/ubuntu jammy/main amd64 libsuitesparseconfig5 amd64 1:5.10.1+dfsg-4build1 [10.4 kB]\n",
            "Get:2 http://archive.ubuntu.com/ubuntu jammy/universe amd64 libamd2 amd64 1:5.10.1+dfsg-4build1 [21.6 kB]\n",
            "Get:3 http://archive.ubuntu.com/ubuntu jammy/main amd64 libcolamd2 amd64 1:5.10.1+dfsg-4build1 [18.0 kB]\n",
            "Get:4 http://archive.ubuntu.com/ubuntu jammy/universe amd64 libglpk40 amd64 5.0-1 [361 kB]\n",
            "Get:5 http://archive.ubuntu.com/ubuntu jammy/universe amd64 glpk-utils amd64 5.0-1 [214 kB]\n",
            "Fetched 625 kB in 1s (606 kB/s)\n",
            "Selecting previously unselected package libsuitesparseconfig5:amd64.\n",
            "(Reading database ... 123597 files and directories currently installed.)\n",
            "Preparing to unpack .../libsuitesparseconfig5_1%3a5.10.1+dfsg-4build1_amd64.deb ...\n",
            "Unpacking libsuitesparseconfig5:amd64 (1:5.10.1+dfsg-4build1) ...\n",
            "Selecting previously unselected package libamd2:amd64.\n",
            "Preparing to unpack .../libamd2_1%3a5.10.1+dfsg-4build1_amd64.deb ...\n",
            "Unpacking libamd2:amd64 (1:5.10.1+dfsg-4build1) ...\n",
            "Selecting previously unselected package libcolamd2:amd64.\n",
            "Preparing to unpack .../libcolamd2_1%3a5.10.1+dfsg-4build1_amd64.deb ...\n",
            "Unpacking libcolamd2:amd64 (1:5.10.1+dfsg-4build1) ...\n",
            "Selecting previously unselected package libglpk40:amd64.\n",
            "Preparing to unpack .../libglpk40_5.0-1_amd64.deb ...\n",
            "Unpacking libglpk40:amd64 (5.0-1) ...\n",
            "Selecting previously unselected package glpk-utils.\n",
            "Preparing to unpack .../glpk-utils_5.0-1_amd64.deb ...\n",
            "Unpacking glpk-utils (5.0-1) ...\n",
            "Setting up libsuitesparseconfig5:amd64 (1:5.10.1+dfsg-4build1) ...\n",
            "Setting up libamd2:amd64 (1:5.10.1+dfsg-4build1) ...\n",
            "Setting up libcolamd2:amd64 (1:5.10.1+dfsg-4build1) ...\n",
            "Setting up libglpk40:amd64 (5.0-1) ...\n",
            "Setting up glpk-utils (5.0-1) ...\n",
            "Processing triggers for man-db (2.10.2-1) ...\n",
            "Processing triggers for libc-bin (2.35-0ubuntu3.4) ...\n",
            "/sbin/ldconfig.real: /usr/local/lib/libur_adapter_opencl.so.0 is not a symbolic link\n",
            "\n",
            "/sbin/ldconfig.real: /usr/local/lib/libur_loader.so.0 is not a symbolic link\n",
            "\n",
            "/sbin/ldconfig.real: /usr/local/lib/libtbb.so.12 is not a symbolic link\n",
            "\n",
            "/sbin/ldconfig.real: /usr/local/lib/libtbbbind_2_0.so.3 is not a symbolic link\n",
            "\n",
            "/sbin/ldconfig.real: /usr/local/lib/libtbbmalloc.so.2 is not a symbolic link\n",
            "\n",
            "/sbin/ldconfig.real: /usr/local/lib/libtbbbind_2_5.so.3 is not a symbolic link\n",
            "\n",
            "/sbin/ldconfig.real: /usr/local/lib/libtbbmalloc_proxy.so.2 is not a symbolic link\n",
            "\n",
            "/sbin/ldconfig.real: /usr/local/lib/libtbbbind.so.3 is not a symbolic link\n",
            "\n",
            "/sbin/ldconfig.real: /usr/local/lib/libur_adapter_level_zero.so.0 is not a symbolic link\n",
            "\n"
          ]
        },
        {
          "output_type": "stream",
          "name": "stderr",
          "text": [
            "WARNING:pyomo.opt:Failed to create solver with name '_glpk_shell':\n",
            "Failed to set executable for solver glpk. File with name=/user/bin/glpsol either does not exist or it is not executable. To skip this validation, call set_executable with validate=False.\n",
            "Traceback (most recent call last):\n",
            "  File \"/usr/local/lib/python3.10/dist-packages/pyomo/opt/base/solvers.py\", line 148, in __call__\n",
            "    opt = self._cls[_name](**kwds)\n",
            "  File \"/usr/local/lib/python3.10/dist-packages/pyomo/solvers/plugins/solvers/GLPK.py\", line 92, in __init__\n",
            "    SystemCallSolver.__init__(self, **kwargs)\n",
            "  File \"/usr/local/lib/python3.10/dist-packages/pyomo/opt/solver/shellcmd.py\", line 66, in __init__\n",
            "    self.set_executable(name=executable, validate=validate)\n",
            "  File \"/usr/local/lib/python3.10/dist-packages/pyomo/opt/solver/shellcmd.py\", line 115, in set_executable\n",
            "    raise ValueError(\n",
            "ValueError: Failed to set executable for solver glpk. File with name=/user/bin/glpsol either does not exist or it is not executable. To skip this validation, call set_executable with validate=False.\n"
          ]
        }
      ]
    },
    {
      "cell_type": "code",
      "execution_count": 2,
      "metadata": {
        "id": "2-MC3Tc8-mIh"
      },
      "outputs": [],
      "source": [
        "from pyomo.opt import SolverFactory"
      ]
    },
    {
      "cell_type": "markdown",
      "source": [
        "#คำอธิบายปัญหา\n",
        "ร้านอาหารแห่งใหม่ได้เปิดขึ้นภายในบริเวณมหาวิทยาลัย ซึ่งจะเปิดให้บริการตลอด 24 ชั่วโมง 7 วันต่อสัปดาห์ โดยในแต่ละวันจะมี 3 กะ กะละ 8 ชั่วโมง กะเช้าคือ 06.00-14.00 น. กะเย็นคือ 14.00-22.00 น. และกะกลางคืนคือ 22.00-06.00 น. ของวันถัดไป\n",
        "\n",
        "ในเวลากลางคืนจะมีคนงานเพียงคนเดียว ในขณะที่ในเวลากลางวันจะมีสองคน ยกเว้นในวันอาทิตย์ซึ่งจะมีเพียงคนเดียวต่อกะ คนงานแต่ละคนจะต้องทำงานไม่เกิน 40 ชั่วโมงต่อสัปดาห์ และต้องพักผ่อน 12 ชั่วโมงระหว่างกะงานทั้งสอง\n",
        "\n",
        "สำหรับวันหยุดประจำสัปดาห์ พนักงานที่หยุดวันอาทิตย์วันหนึ่งก็มักจะเลือกหยุดในวันเสาร์วันเดียวกันด้วย\n",
        "\n",
        "ตามหลักการแล้วมีพนักงานอยู่สิบคน ซึ่งถือว่ามากเกินไปอย่างเห็นได้ชัด ยิ่งพนักงานต้องการน้อยลงเท่าไร ทรัพยากรสำหรับร้านอื่น ๆ ก็ยิ่งมากขึ้นเท่านั้น"
      ],
      "metadata": {
        "id": "g02XZBUoraPG"
      }
    },
    {
      "cell_type": "code",
      "source": [
        "# Define days (1 week)\n",
        "days = ['Mon', 'Tue', 'Wed', 'Thu', 'Fri', 'Sat', 'Sun']\n",
        "\n",
        "# Enter shifts of each day\n",
        "shifts = ['morning', 'evening', 'night']  # 3 shifts of 8 hours\n",
        "days_shifts = {day: shifts for day in days}  # dict with day as key and list of its shifts as value\n",
        "\n",
        "# Enter workers ids (name, number, ...)\n",
        "workers = ['W' + str(i) for i in range(1, 11)]  # 10 workers available, more than needed\n"
      ],
      "metadata": {
        "id": "6M0JizYo-o8A"
      },
      "execution_count": 3,
      "outputs": []
    },
    {
      "cell_type": "code",
      "source": [
        "# Initialize model\n",
        "model = ConcreteModel()\n",
        "\n",
        "# binary variables ที่แสดงว่าพนักงานได้รับการกำหนดเวลาไว้ที่ใด\n",
        "# ตัวแปรไบนารีที่จัดทำดัชนี พนักงาน, วัน, กะ โดน 1 คือคนงานต้องทำงานกะนั้นในวันนั้น\n",
        "model.works = Var(((worker, day, shift) for worker in workers for day in days for shift in days_shifts[day]),\n",
        "                  within=Binary, initialize=0)\n",
        "\n",
        "# binary variables ที่แสดงว่าจำเป็นต้องมีคนงานหรือไม่\n",
        "#  1 = หากจำเป็นต้องรวมคนงานไว้ในกำลังแรงงาน\n",
        "model.needed = Var(workers, within=Binary, initialize=0)\n",
        "\n",
        "# binary variables ที่แสดงว่าคนงานทำงานในวันอาทิตย์แต่ไม่ทำงานในวันเสาร์ (หลีกเลี่ยงหากเป็นไปได้)\n",
        "# 1 = ถ้าไม่ทำงานในวันอาทิตย์แต่กลับทำงานในวันเสาร์\n",
        "model.no_pref = Var(workers, within=Binary, initialize=0)"
      ],
      "metadata": {
        "id": "1L9X6SWK-rj-"
      },
      "execution_count": 4,
      "outputs": []
    },
    {
      "cell_type": "markdown",
      "source": [
        "#วัตถุประสงค์\n",
        "- คือค้นหาตารางงานที่ลดจำนวนคนงานให้เหลือน้อยที่สุด\n",
        "-และเมื่อทำได้แล้ว จำนวนคนงานที่ทำงานในวันอาทิตย์แต่ไม่ใช่ในวันเสาร์ก็รวมอยู่ด้วย\n",
        "- *คูณส่วนของจำนวนคนงานด้วยค่าคงที่ที่มากพอ*\n",
        "*เพื่อให้พิจารณาลดความต้องการทำงานในวันหยุดสุดสัปดาห์ให้เหลือน้อยที่สุดหลังจากตัดสินใจเลือกจำนวนคนงานที่เหมาะสมที่สุดแล้วเท่านั้น*"
      ],
      "metadata": {
        "id": "mPPSXjjIs5gY"
      }
    },
    {
      "cell_type": "code",
      "source": [
        "# Define an objective function with model as input, to pass later\n",
        "def obj_rule(m):\n",
        "    c = len(workers)\n",
        "    return sum(m.no_pref[worker] for worker in workers) + sum(c * m.needed[worker] for worker in workers)\n",
        "# รวมจำนวนคนงานที่่ทำเสารื + รวมจำนวนคนงานที่จำเป็น(ไม่่เกิน10) จะต้องน้อยที่สุด\n",
        "# เนื่องจาก sum(m.no_prefer) มีค่าไม่เกิน len(workers) ดังนั้น len(workers) + 1 จึงเป็นค่าคงที่ที่ถูกต้อง\n",
        "\n",
        "# add objective function to the model. rule (pass function) or expr (pass expression directly)\n",
        "model.obj = Objective(rule=obj_rule, sense=minimize)"
      ],
      "metadata": {
        "id": "kAI5r91Q-vdB"
      },
      "execution_count": 5,
      "outputs": []
    },
    {
      "cell_type": "code",
      "source": [
        "model.constraints = ConstraintList()  # Create a set of constraints\n",
        "\n",
        "# Constraint: กะงานทั้งหมดได้รับการมอบหมาย\n",
        "for day in days:\n",
        "    for shift in days_shifts[day]:\n",
        "        if day in days[:-1] and shift in ['morning', 'evening']:\n",
        "            # กะวันธรรมดาและวันเสาร์มีคนงานแค่สองคนเท่านั้น\n",
        "            model.constraints.add(  # to add a constraint to model.constraints set\n",
        "                2 == sum(model.works[worker, day, shift] for worker in workers)\n",
        "            )\n",
        "        else:\n",
        "            # กะวันอาทิตย์และกะกลางคืนมีคนงานแค่ 1 คนเท่านั้น\n",
        "            model.constraints.add(\n",
        "                1 == sum(model.works[worker, day, shift] for worker in workers)\n",
        "            )\n",
        "\n",
        "# Constraint: ทำงานไม่เกิน 40 ชั่วโมง\n",
        "for worker in workers:\n",
        "    model.constraints.add(\n",
        "        40 >= sum(8 * model.works[worker, day, shift] for day in days for shift in days_shifts[day])\n",
        "    )\n",
        "\n",
        "# Constraint: เวลาพักระหว่างกะงานสองกะคือ 12 ชั่วโมง (ก้คือ อย่างน้อยสองกะงาน)\n",
        "for worker in workers:\n",
        "    for j in range(len(days)):\n",
        "        # if working in morning, cannot work again that day\n",
        "        model.constraints.add(\n",
        "            1 >= sum(model.works[worker, days[j], shift] for shift in days_shifts[days[j]])\n",
        "        )\n",
        "        # ถ้าทำงานตอนบ่าย จะทำบ่ายของวันถัดไป (ปล. หลังวันอาทิตย์ให้เลื่อนไปทำงานวันจันทร์หน้า)\n",
        "        model.constraints.add(\n",
        "            1 >= sum(model.works[worker, days[j], shift] for shift in ['evening', 'night']) +\n",
        "            model.works[worker, days[(j + 1) % 7], 'morning']\n",
        "        )\n",
        "        # if working in night, until next night\n",
        "        model.constraints.add(\n",
        "            1 >= model.works[worker, days[j], 'night'] +\n",
        "            sum(model.works[worker, days[(j + 1) % 7], shift] for shift in ['morning', 'evening'])\n",
        "        )\n",
        "\n",
        "# Constraint (def of model.needed)\n",
        "for worker in workers:\n",
        "    model.constraints.add(\n",
        "        10000 * model.needed[worker] >= sum(model.works[worker, day, shift] for day in days for shift in days_shifts[day])\n",
        "    )  # if any model.works[worker, ·, ·] non-zero, model.needed[worker] must be one; else is zero to reduce the obj function\n",
        "    # 10000 is to remark, but 5 was enough since max of 40 hours yields max of 5 shifts, the maximum possible sum\n",
        "#งง ทำไมผลรวมที่เป็นได้ไมเป็น 56 ชั่วโมง หรือ 7 ผลัด\n",
        "\n",
        "# Constraint (def of model.no_pref)\n",
        "for worker in workers:\n",
        "    model.constraints.add(\n",
        "        model.no_pref[worker] >= sum(model.works[worker, 'Sat', shift] for shift in days_shifts['Sat'])\n",
        "        - sum(model.works[worker, 'Sun', shift] for shift in days_shifts['Sun'])\n",
        "    )  ) # ถ้าไม่ทำงานในวันอาทิตย์แต่ทำงานในวันเสาร์ จำเป็นต้องเป็น 1 ไม่เช่นนั้นจะเป็นศูนย์เพื่อลดฟังก์ชัน obj"
      ],
      "metadata": {
        "id": "Lp6pRMW0-4kj"
      },
      "execution_count": 6,
      "outputs": []
    },
    {
      "cell_type": "code",
      "source": [
        "##!pip install glpk  # Install the glpk solver\n",
        "\n",
        "##import os\n",
        "##import pyomo.environ as pe\n",
        "##from pyomo.opt import SolverFactory, SolverManagerFactory\n",
        "\n",
        "# ... (rest of your code)\n",
        "\n",
        "# Set the NEOS email address directly in the environment\n",
        "##os.environ['NEOS_EMAIL'] = \"your_actual_email@example.com\"  # Replace with your actual email\n",
        "\n",
        "#opt = SolverFactory('cbc')  # Select solver\n",
        "# Try to automatically find the glpk executable\n",
        "##solver_manager = pe.SolverFactory('glpk')\n",
        "# If the above fails, you might need to specify the correct path\n",
        "# solver_manager = pe.SolverFactory('glpk', executable='/path/to/glpsol')  # Replace with the actual path\n",
        "#solver_manager = SolverManagerFactory('neos')  # Solve in neos server\n",
        "##results = solver_manager.solve(model)"
      ],
      "metadata": {
        "id": "vw5DBn3oy_Cx"
      },
      "execution_count": 7,
      "outputs": []
    },
    {
      "cell_type": "code",
      "source": [
        "import os\n",
        "# Set the NEOS email address directly in the environment\n",
        "os.environ['NEOS_EMAIL'] = \"your_actual_email@example.com\"  # Replace with your actual email\n",
        "\n",
        "opt = SolverFactory('cbc')  # Select solver\n",
        "solver_manager = SolverManagerFactory('neos')  # Solve in neos server\n",
        "##solver_manager = pe.SolverFactory('glpk', executable='/user/bin/glpsol')\n",
        "results = solver_manager.solve(model, opt=opt)"
      ],
      "metadata": {
        "id": "CBMtUFjlpW6o"
      },
      "execution_count": 8,
      "outputs": []
    },
    {
      "cell_type": "code",
      "source": [
        "print(results)"
      ],
      "metadata": {
        "id": "utCMdRoAL1EO",
        "colab": {
          "base_uri": "https://localhost:8080/"
        },
        "outputId": "d0a7852b-7e30-4235-d625-3fd728d166b1"
      },
      "execution_count": 9,
      "outputs": [
        {
          "output_type": "stream",
          "name": "stdout",
          "text": [
            "\n",
            "Problem: \n",
            "- Lower bound: -inf\n",
            "  Upper bound: inf\n",
            "  Number of objectives: 1\n",
            "  Number of constraints: 261\n",
            "  Number of variables: 230\n",
            "  Sense: unknown\n",
            "Solver: \n",
            "- Status: ok\n",
            "  Message: CBC 2.10.10 optimal, objective 72; 0 nodes, 88 iterations, 0.108329 seconds\n",
            "  Termination condition: optimal\n",
            "  Id: 0\n",
            "Solution: \n",
            "- number of solutions: 0\n",
            "  number of solutions displayed: 0\n",
            "\n"
          ]
        }
      ]
    },
    {
      "cell_type": "markdown",
      "source": [
        "#Extract the solution\n",
        "ต้องการทราบว่าวิธีใดไม่เป็นศูนย์ และเพื่อให้เห็นภาพได้ เราต้องประมวลผลวิธีแก้ปัญหาที่กำหนดให้"
      ],
      "metadata": {
        "id": "5EHIAu7n2Mao"
      }
    },
    {
      "cell_type": "code",
      "source": [
        "def get_workers_needed(needed):\n",
        "    \"\"\"Extract to a list the needed workers for the optimal solution.\"\"\"\n",
        "    workers_needed = []\n",
        "    for worker in workers:\n",
        "        if needed[worker].value == 1:\n",
        "            workers_needed.append(worker)\n",
        "    return workers_needed\n",
        "\n",
        "\n",
        "def get_work_table(works):\n",
        "    \"\"\"Build a timetable of the week as a dictionary from the model's optimal solution.\"\"\"\n",
        "    week_table = {day: {shift: [] for shift in days_shifts[day]} for day in days}\n",
        "    for worker in workers:\n",
        "        for day in days:\n",
        "            for shift in days_shifts[day]:\n",
        "                    if works[worker, day, shift].value == 1:\n",
        "                        week_table[day][shift].append(worker)\n",
        "    return week_table\n",
        "\n",
        "\n",
        "def get_no_preference(no_pref):\n",
        "    \"\"\"Extract to a list the workers not satisfied with their weekend preference.\"\"\"\n",
        "    return [worker for worker in workers if no_pref[worker].value == 1]\n",
        "\n",
        "\n",
        "workers_needed = get_workers_needed(model.needed)  # dict with the optimal timetable\n",
        "week_table = get_work_table(model.works)  # list with the required workers\n",
        "workers_no_pref = get_no_preference(model.no_pref)  # list with the non-satisfied workers (work on Sat but not on Sun)\n"
      ],
      "metadata": {
        "id": "J3BGioRP_K2o"
      },
      "execution_count": 10,
      "outputs": []
    },
    {
      "cell_type": "code",
      "source": [
        "import json"
      ],
      "metadata": {
        "id": "2MZWmdf8PMPg"
      },
      "execution_count": 11,
      "outputs": []
    },
    {
      "cell_type": "code",
      "source": [
        "print('Workers needed:')\n",
        "[print('  ' + worker) for worker in workers_needed];"
      ],
      "metadata": {
        "id": "v0foSEAzPPTf",
        "colab": {
          "base_uri": "https://localhost:8080/"
        },
        "outputId": "60ebbbb0-67a3-4f81-d634-df4caee0e566"
      },
      "execution_count": 12,
      "outputs": [
        {
          "output_type": "stream",
          "name": "stdout",
          "text": [
            "Workers needed:\n",
            "  W2\n",
            "  W3\n",
            "  W5\n",
            "  W7\n",
            "  W8\n",
            "  W9\n",
            "  W10\n"
          ]
        }
      ]
    },
    {
      "cell_type": "markdown",
      "source": [
        "## ตรวจสอบ\n",
        "- ตรวจสอบโซลูชันที่ได้รับ\n",
        "- ตรวจสอบว่าเงื่อนไขที่เสนอทั้งหมดเป็นไปตามข้อกำหนดหรือไม่\n",
        "*หากบันทึกพจนานุกรมของตารางเวลาที่เหมาะสมที่สุดในรูปแบบ JSON โซลูชันจะมีลักษณะดังนี้:*"
      ],
      "metadata": {
        "id": "RIGN8XSl2dYV"
      }
    },
    {
      "cell_type": "code",
      "source": [
        "print('Work schedule:')\n",
        "print(json.dumps(week_table, indent=2))"
      ],
      "metadata": {
        "id": "gqndv7m0PX6i",
        "colab": {
          "base_uri": "https://localhost:8080/"
        },
        "outputId": "7a5f1415-280c-4fac-f98a-1e9f2e0c01c5"
      },
      "execution_count": 13,
      "outputs": [
        {
          "output_type": "stream",
          "name": "stdout",
          "text": [
            "Work schedule:\n",
            "{\n",
            "  \"Mon\": {\n",
            "    \"morning\": [\n",
            "      \"W3\",\n",
            "      \"W9\"\n",
            "    ],\n",
            "    \"evening\": [\n",
            "      \"W8\",\n",
            "      \"W10\"\n",
            "    ],\n",
            "    \"night\": [\n",
            "      \"W2\"\n",
            "    ]\n",
            "  },\n",
            "  \"Tue\": {\n",
            "    \"morning\": [\n",
            "      \"W3\",\n",
            "      \"W5\"\n",
            "    ],\n",
            "    \"evening\": [\n",
            "      \"W8\",\n",
            "      \"W10\"\n",
            "    ],\n",
            "    \"night\": [\n",
            "      \"W9\"\n",
            "    ]\n",
            "  },\n",
            "  \"Wed\": {\n",
            "    \"morning\": [\n",
            "      \"W5\",\n",
            "      \"W7\"\n",
            "    ],\n",
            "    \"evening\": [\n",
            "      \"W2\",\n",
            "      \"W10\"\n",
            "    ],\n",
            "    \"night\": [\n",
            "      \"W3\"\n",
            "    ]\n",
            "  },\n",
            "  \"Thu\": {\n",
            "    \"morning\": [\n",
            "      \"W7\",\n",
            "      \"W9\"\n",
            "    ],\n",
            "    \"evening\": [\n",
            "      \"W8\",\n",
            "      \"W10\"\n",
            "    ],\n",
            "    \"night\": [\n",
            "      \"W2\"\n",
            "    ]\n",
            "  },\n",
            "  \"Fri\": {\n",
            "    \"morning\": [\n",
            "      \"W7\",\n",
            "      \"W9\"\n",
            "    ],\n",
            "    \"evening\": [\n",
            "      \"W3\",\n",
            "      \"W10\"\n",
            "    ],\n",
            "    \"night\": [\n",
            "      \"W5\"\n",
            "    ]\n",
            "  },\n",
            "  \"Sat\": {\n",
            "    \"morning\": [\n",
            "      \"W2\",\n",
            "      \"W7\"\n",
            "    ],\n",
            "    \"evening\": [\n",
            "      \"W8\",\n",
            "      \"W9\"\n",
            "    ],\n",
            "    \"night\": [\n",
            "      \"W3\"\n",
            "    ]\n",
            "  },\n",
            "  \"Sun\": {\n",
            "    \"morning\": [\n",
            "      \"W7\"\n",
            "    ],\n",
            "    \"evening\": [\n",
            "      \"W8\"\n",
            "    ],\n",
            "    \"night\": [\n",
            "      \"W2\"\n",
            "    ]\n",
            "  }\n",
            "}\n"
          ]
        }
      ]
    },
    {
      "cell_type": "code",
      "source": [
        "print('Workers not satisfied by weekend condition:')\n",
        "[print('  ' + worker) for worker in workers_no_pref];"
      ],
      "metadata": {
        "id": "72AkuwUWPfr3",
        "colab": {
          "base_uri": "https://localhost:8080/"
        },
        "outputId": "03e45e91-0234-4db2-9b26-049895f2a1a1"
      },
      "execution_count": 14,
      "outputs": [
        {
          "output_type": "stream",
          "name": "stdout",
          "text": [
            "Workers not satisfied by weekend condition:\n",
            "  W3\n",
            "  W9\n"
          ]
        }
      ]
    },
    {
      "cell_type": "code",
      "source": [
        "print('Objective value:', model.obj())"
      ],
      "metadata": {
        "id": "AnKkclEBVvkz",
        "colab": {
          "base_uri": "https://localhost:8080/"
        },
        "outputId": "b1f4d93f-c63f-406f-a249-71d4bd351d1f"
      },
      "execution_count": 15,
      "outputs": [
        {
          "output_type": "stream",
          "name": "stdout",
          "text": [
            "Objective value: 72.0\n"
          ]
        }
      ]
    },
    {
      "cell_type": "code",
      "source": [
        "solver = pe.SolverFactory('glpk', executable='/user/bin/glpsol')"
      ],
      "metadata": {
        "id": "6NGRXR32vKnj",
        "colab": {
          "base_uri": "https://localhost:8080/"
        },
        "outputId": "1f4d7bae-ccc0-4445-eb36-1aa51629c975"
      },
      "execution_count": 16,
      "outputs": [
        {
          "output_type": "stream",
          "name": "stderr",
          "text": [
            "WARNING:pyomo.opt:Failed to create solver with name '_glpk_shell':\n",
            "Failed to set executable for solver glpk. File with name=/user/bin/glpsol either does not exist or it is not executable. To skip this validation, call set_executable with validate=False.\n",
            "Traceback (most recent call last):\n",
            "  File \"/usr/local/lib/python3.10/dist-packages/pyomo/opt/base/solvers.py\", line 148, in __call__\n",
            "    opt = self._cls[_name](**kwds)\n",
            "  File \"/usr/local/lib/python3.10/dist-packages/pyomo/solvers/plugins/solvers/GLPK.py\", line 92, in __init__\n",
            "    SystemCallSolver.__init__(self, **kwargs)\n",
            "  File \"/usr/local/lib/python3.10/dist-packages/pyomo/opt/solver/shellcmd.py\", line 66, in __init__\n",
            "    self.set_executable(name=executable, validate=validate)\n",
            "  File \"/usr/local/lib/python3.10/dist-packages/pyomo/opt/solver/shellcmd.py\", line 115, in set_executable\n",
            "    raise ValueError(\n",
            "ValueError: Failed to set executable for solver glpk. File with name=/user/bin/glpsol either does not exist or it is not executable. To skip this validation, call set_executable with validate=False.\n"
          ]
        }
      ]
    }
  ]
}