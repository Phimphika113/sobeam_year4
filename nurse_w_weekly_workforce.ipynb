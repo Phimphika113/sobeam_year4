{
  "nbformat": 4,
  "nbformat_minor": 0,
  "metadata": {
    "colab": {
      "provenance": [],
      "authorship_tag": "ABX9TyPvmXQ56C32twh9v+oTLRK6",
      "include_colab_link": true
    },
    "kernelspec": {
      "name": "python3",
      "display_name": "Python 3"
    },
    "language_info": {
      "name": "python"
    }
  },
  "cells": [
    {
      "cell_type": "markdown",
      "metadata": {
        "id": "view-in-github",
        "colab_type": "text"
      },
      "source": [
        "<a href=\"https://colab.research.google.com/github/Phimphika113/sobeam_year4/blob/main/nurse_w_weekly_workforce.ipynb\" target=\"_parent\"><img src=\"https://colab.research.google.com/assets/colab-badge.svg\" alt=\"Open In Colab\"/></a>"
      ]
    },
    {
      "cell_type": "code",
      "source": [
        "!pip install -q pyomo ## ติดตั้ง Pyomo\n",
        "!apt-get install -y glpk-utils  ##Solver"
      ],
      "metadata": {
        "colab": {
          "base_uri": "https://localhost:8080/"
        },
        "id": "tYFbcKEBduR5",
        "outputId": "b80f8454-5bfd-4259-8872-a2c121b6bf53"
      },
      "execution_count": 1,
      "outputs": [
        {
          "output_type": "stream",
          "name": "stdout",
          "text": [
            "\u001b[2K   \u001b[90m━━━━━━━━━━━━━━━━━━━━━━━━━━━━━━━━━━━━━━━━\u001b[0m \u001b[32m13.3/13.3 MB\u001b[0m \u001b[31m35.7 MB/s\u001b[0m eta \u001b[36m0:00:00\u001b[0m\n",
            "\u001b[2K   \u001b[90m━━━━━━━━━━━━━━━━━━━━━━━━━━━━━━━━━━━━━━━━\u001b[0m \u001b[32m49.6/49.6 kB\u001b[0m \u001b[31m1.8 MB/s\u001b[0m eta \u001b[36m0:00:00\u001b[0m\n",
            "Reading package lists... Done\n",
            "Building dependency tree... Done\n",
            "Reading state information... Done\n",
            "The following additional packages will be installed:\n",
            "  libamd2 libcolamd2 libglpk40 libsuitesparseconfig5\n",
            "Suggested packages:\n",
            "  libiodbc2-dev\n",
            "The following NEW packages will be installed:\n",
            "  glpk-utils libamd2 libcolamd2 libglpk40 libsuitesparseconfig5\n",
            "0 upgraded, 5 newly installed, 0 to remove and 49 not upgraded.\n",
            "Need to get 625 kB of archives.\n",
            "After this operation, 2,158 kB of additional disk space will be used.\n",
            "Get:1 http://archive.ubuntu.com/ubuntu jammy/main amd64 libsuitesparseconfig5 amd64 1:5.10.1+dfsg-4build1 [10.4 kB]\n",
            "Get:2 http://archive.ubuntu.com/ubuntu jammy/universe amd64 libamd2 amd64 1:5.10.1+dfsg-4build1 [21.6 kB]\n",
            "Get:3 http://archive.ubuntu.com/ubuntu jammy/main amd64 libcolamd2 amd64 1:5.10.1+dfsg-4build1 [18.0 kB]\n",
            "Get:4 http://archive.ubuntu.com/ubuntu jammy/universe amd64 libglpk40 amd64 5.0-1 [361 kB]\n",
            "Get:5 http://archive.ubuntu.com/ubuntu jammy/universe amd64 glpk-utils amd64 5.0-1 [214 kB]\n",
            "Fetched 625 kB in 1s (1,116 kB/s)\n",
            "Selecting previously unselected package libsuitesparseconfig5:amd64.\n",
            "(Reading database ... 123597 files and directories currently installed.)\n",
            "Preparing to unpack .../libsuitesparseconfig5_1%3a5.10.1+dfsg-4build1_amd64.deb ...\n",
            "Unpacking libsuitesparseconfig5:amd64 (1:5.10.1+dfsg-4build1) ...\n",
            "Selecting previously unselected package libamd2:amd64.\n",
            "Preparing to unpack .../libamd2_1%3a5.10.1+dfsg-4build1_amd64.deb ...\n",
            "Unpacking libamd2:amd64 (1:5.10.1+dfsg-4build1) ...\n",
            "Selecting previously unselected package libcolamd2:amd64.\n",
            "Preparing to unpack .../libcolamd2_1%3a5.10.1+dfsg-4build1_amd64.deb ...\n",
            "Unpacking libcolamd2:amd64 (1:5.10.1+dfsg-4build1) ...\n",
            "Selecting previously unselected package libglpk40:amd64.\n",
            "Preparing to unpack .../libglpk40_5.0-1_amd64.deb ...\n",
            "Unpacking libglpk40:amd64 (5.0-1) ...\n",
            "Selecting previously unselected package glpk-utils.\n",
            "Preparing to unpack .../glpk-utils_5.0-1_amd64.deb ...\n",
            "Unpacking glpk-utils (5.0-1) ...\n",
            "Setting up libsuitesparseconfig5:amd64 (1:5.10.1+dfsg-4build1) ...\n",
            "Setting up libamd2:amd64 (1:5.10.1+dfsg-4build1) ...\n",
            "Setting up libcolamd2:amd64 (1:5.10.1+dfsg-4build1) ...\n",
            "Setting up libglpk40:amd64 (5.0-1) ...\n",
            "Setting up glpk-utils (5.0-1) ...\n",
            "Processing triggers for man-db (2.10.2-1) ...\n",
            "Processing triggers for libc-bin (2.35-0ubuntu3.4) ...\n",
            "/sbin/ldconfig.real: /usr/local/lib/libtbbbind_2_0.so.3 is not a symbolic link\n",
            "\n",
            "/sbin/ldconfig.real: /usr/local/lib/libtbbmalloc.so.2 is not a symbolic link\n",
            "\n",
            "/sbin/ldconfig.real: /usr/local/lib/libtbbbind_2_5.so.3 is not a symbolic link\n",
            "\n",
            "/sbin/ldconfig.real: /usr/local/lib/libur_loader.so.0 is not a symbolic link\n",
            "\n",
            "/sbin/ldconfig.real: /usr/local/lib/libur_adapter_level_zero.so.0 is not a symbolic link\n",
            "\n",
            "/sbin/ldconfig.real: /usr/local/lib/libtbbmalloc_proxy.so.2 is not a symbolic link\n",
            "\n",
            "/sbin/ldconfig.real: /usr/local/lib/libur_adapter_opencl.so.0 is not a symbolic link\n",
            "\n",
            "/sbin/ldconfig.real: /usr/local/lib/libtbbbind.so.3 is not a symbolic link\n",
            "\n",
            "/sbin/ldconfig.real: /usr/local/lib/libtbb.so.12 is not a symbolic link\n",
            "\n"
          ]
        }
      ]
    },
    {
      "cell_type": "code",
      "execution_count": 24,
      "metadata": {
        "id": "1LdS175TdRR8"
      },
      "outputs": [],
      "source": [
        "from pyomo.environ import *\n",
        "from pyomo import environ as pe\n",
        "from pyomo.opt import SolverFactory"
      ]
    },
    {
      "cell_type": "markdown",
      "source": [
        "# Define model parameters"
      ],
      "metadata": {
        "id": "6SrPRK0tdWy5"
      }
    },
    {
      "cell_type": "code",
      "source": [
        "# Define days\n",
        "days = range(1, 31) # เซตวันแต่ละเดือน 31 วัน\n",
        "\n",
        "# Enter shifts of each day\n",
        "shifts_s = ['morning', 'evening', 'night']  # เซตผลัด\n",
        "days_shifts_k = {day: shifts_s for day in days}  #ดัชนีผลัด\n",
        "\n",
        "# Enter nurse ids (name, number, ...)\n",
        "nurse_N = range(1, 18)  # เซตพยาบาล 17 คน\n",
        "\n",
        "# Age  of nurse\n",
        "age_nurse_R = [0] * 17  # เริ่มต้นด้วย 0\n",
        "age_nurse_R[0] = 2 # ตั้งค่าตัวที่ 1 และ 2 เป็น 2\n",
        "age_nurse_R[1] = 2\n",
        "for i in range(2, 17): # ตั้งค่าตัวที่ 3 ถึง 17 เป็น 1\n",
        "    age_nurse_R[i] = 1\n",
        "\n",
        "# Age  of nurse\n",
        "#import numpy as np #เซตอายุของพยาบาล\n",
        "#age_nurse_R = np.ones(17) #สร้างอาเรย์ยาว 17 และค่าเริ่มต้นเป็น 1\n",
        "#age_nurse_R[0] = 2 #ค่าตัวที่ 1 และ 2 เป็น 2\n",
        "#age_nurse_R[1] = 2\n",
        "\n",
        "# ข้อมูลการมีโรคประจำตัว (มีแค่พยบ 1 คน แล้วตัดออกแล้ว)\n",
        "#Disease_nurse = np.zeros(17) #สร้างอาเรย์ยาว 17 และค่าเริ่มต้นเป็น 0\n",
        "#Disease_nurse[0] = 1 #ค่าตัวที่ 1 และ 2 เป็น 2\n",
        "#Disease_nurse[1] = 1\n",
        "\n",
        "#กำหนดอายุงานพยาบาล\n",
        "# เซตอายุงานพยาบาล\n",
        "work_experience_L = {1: 18,\n",
        "                              2: 18,\n",
        "                              3: 15,\n",
        "                              4: 14,\n",
        "                              5: 14,\n",
        "                              6: 12,\n",
        "                              7: 15,\n",
        "                              8: 10,\n",
        "                              9: 9,\n",
        "                              10: 12,\n",
        "                              11: 10,\n",
        "                              12: 9,\n",
        "                              13: 8,\n",
        "                              14: 6,\n",
        "                              15: 1,\n",
        "                              16: 1,\n",
        "                              17: 1}"
      ],
      "metadata": {
        "id": "FgavrxB3dcuO"
      },
      "execution_count": 3,
      "outputs": []
    },
    {
      "cell_type": "code",
      "source": [
        "# Create a DataFrame to store nurse information\n",
        "import pandas as pd\n",
        "df_nurse = pd.DataFrame ({'Nurse_ID': nurse_N,\n",
        "                          'Age': age_nurse_R,\n",
        "                          'Work_Experience': [work_experience_L[i+1] for i in range(17)]})\n",
        "\n",
        "# Display the DataFrame\n",
        "print(df_nurse.to_string(index=False))"
      ],
      "metadata": {
        "collapsed": true,
        "id": "MgTAqKs6DaQq",
        "outputId": "2b884aa7-48a0-480d-c8c1-7d7ac5157143",
        "colab": {
          "base_uri": "https://localhost:8080/"
        }
      },
      "execution_count": 4,
      "outputs": [
        {
          "output_type": "stream",
          "name": "stdout",
          "text": [
            " Nurse_ID  Age  Work_Experience\n",
            "        1    2               18\n",
            "        2    2               18\n",
            "        3    1               15\n",
            "        4    1               14\n",
            "        5    1               14\n",
            "        6    1               12\n",
            "        7    1               15\n",
            "        8    1               10\n",
            "        9    1                9\n",
            "       10    1               12\n",
            "       11    1               10\n",
            "       12    1                9\n",
            "       13    1                8\n",
            "       14    1                6\n",
            "       15    1                1\n",
            "       16    1                1\n",
            "       17    1                1\n"
          ]
        }
      ]
    },
    {
      "cell_type": "markdown",
      "source": [
        "#Initialize model and variables\n"
      ],
      "metadata": {
        "id": "pJfLToTfgg_a"
      }
    },
    {
      "cell_type": "code",
      "source": [
        "# Initialize model\n",
        "model = ConcreteModel()\n",
        "\n",
        "# binary variables แสดงการได้รับตารางงานของพยาบาล (Normaltime)\n",
        "model.nurse_work_X = Var(((i, j, k) for i in nurse_N for j in days for k in days_shifts_k[j]),\n",
        "                  within=Binary, initialize=0)\n",
        "# model.nurse_work_Z = Var(((nurse, day, shift) for nurse in nurse_N for day in days for shift in days_shifts_k[day]),\n",
        "#                 within=Binary, initialize=0)  # ตัวแปรการทำงานในผลัดล่วงเวลา\n"
      ],
      "metadata": {
        "id": "z6RYJEEozaoa"
      },
      "execution_count": 5,
      "outputs": []
    },
    {
      "cell_type": "markdown",
      "source": [
        "#Define the objective function"
      ],
      "metadata": {
        "id": "abDdgS8B3I-l"
      }
    },
    {
      "cell_type": "code",
      "source": [
        "# Define an objective function with model as input, to pass later\n",
        "def obj_fun(m):\n",
        "  model.NT = sum(model.nurse_work_X[i, j, k] for i in nurse_N for j in days for k in days_shifts_k[j])  # ผลัดการทำงานทั้งหมดของพยาบาล i ในรอบ 1 เดือน\n",
        "  alpha = model.NT / len(nurse_N)  # avg of NT, use model.NT here\n",
        "  differ_NT = model.NT- alpha\n",
        "  return sum(differ_NT**2 for i in nurse_N) # รวมค่ากำลังสองของความต่างสำหรับพยาบาลแต่ละคน\n",
        "\n",
        "# add objective function to the model. rule (pass function) or expr (pass expression directly)\n",
        "model.obj = Objective(rule=obj_fun, sense=minimize)"
      ],
      "metadata": {
        "id": "fpGmgvziiAoY"
      },
      "execution_count": 6,
      "outputs": []
    },
    {
      "cell_type": "markdown",
      "source": [
        "#Model constraints"
      ],
      "metadata": {
        "id": "skskUbk95r9a"
      }
    },
    {
      "cell_type": "code",
      "source": [
        "# 1.ช บ ด ผลัดละ 5 คน\n",
        "model.const1 = ConstraintList()\n",
        "for j in days:\n",
        "    for k in days_shifts_k[j]:\n",
        "            model.const1.add(\n",
        "                5 == sum(model.nurse_work_X[i, j, k]  for j in days for k in days_shifts_k[j])\n",
        "            )"
      ],
      "metadata": {
        "id": "as7A9-3m5uLV"
      },
      "execution_count": 7,
      "outputs": []
    },
    {
      "cell_type": "code",
      "source": [
        "#พยาบาลแต่ละคน ทำงานไม่เกิน 40 ชม. ต่อสัปดาห์ หรือ 5 เวรต่อสัปดาห์\n",
        "#ไม่ได้ใช้ g คู่กับ j ได้มั้ย แต่ day งานตัวอย่างมี7อยู่แล้ว\n",
        "model.const2 = ConstraintList()\n",
        "for i in nurse_N:\n",
        "    model.constraints.add(\n",
        "        5 >= sum(model.nurse_work_X[i, j, k] for j in days for k in days_shifts_k[j])\n",
        "    )\n"
      ],
      "metadata": {
        "id": "cZZzzIVYAyDW"
      },
      "execution_count": null,
      "outputs": []
    },
    {
      "cell_type": "markdown",
      "source": [
        "#Solver"
      ],
      "metadata": {
        "id": "0LCDIi04W6Uc"
      }
    },
    {
      "cell_type": "markdown",
      "source": [],
      "metadata": {
        "id": "Oj2And1lfarF"
      }
    },
    {
      "cell_type": "code",
      "source": [
        "#!cbc --version"
      ],
      "metadata": {
        "id": "8eqQRjRbaZUr",
        "outputId": "148e83b6-c98f-4579-a247-4d31cd439286",
        "colab": {
          "base_uri": "https://localhost:8080/"
        }
      },
      "execution_count": 20,
      "outputs": [
        {
          "output_type": "stream",
          "name": "stdout",
          "text": [
            "Welcome to the CBC MILP Solver \n",
            "Version: 2.10.7 \n",
            "Build Date: Feb 14 2022 \n",
            "\n",
            "command line - cbc --version (default strategy 1)\n",
            "No match for -version - ? for list of commands\n",
            "CoinSolver takes input from arguments ( - switches to stdin)\n",
            "Enter ? for list of commands or help\n",
            "Coin:^C\n"
          ]
        }
      ]
    },
    {
      "cell_type": "code",
      "source": [
        "!sudo apt-get install  glpk-utils\n",
        "solver = pe.SolverFactory('glpk', executable='/user/bin/glpsol')\n",
        "from pyomo.opt import SolverFactory\n",
        "opt = SolverFactory('glpk')\n",
        "opt.solve(model, tee=True)"
      ],
      "metadata": {
        "id": "29VVrNgwf3eo",
        "outputId": "8eb54e53-6430-4466-b569-ffe80d9cb3d6",
        "colab": {
          "base_uri": "https://localhost:8080/",
          "height": 636
        }
      },
      "execution_count": 25,
      "outputs": [
        {
          "output_type": "stream",
          "name": "stdout",
          "text": [
            "Reading package lists... Done\n",
            "Building dependency tree... Done\n",
            "Reading state information... Done\n",
            "glpk-utils is already the newest version (5.0-1).\n",
            "0 upgraded, 0 newly installed, 0 to remove and 49 not upgraded.\n"
          ]
        },
        {
          "output_type": "stream",
          "name": "stderr",
          "text": [
            "WARNING:pyomo.opt:Failed to create solver with name '_glpk_shell':\n",
            "Failed to set executable for solver glpk. File with name=/user/bin/glpsol either does not exist or it is not executable. To skip this validation, call set_executable with validate=False.\n",
            "Traceback (most recent call last):\n",
            "  File \"/usr/local/lib/python3.10/dist-packages/pyomo/opt/base/solvers.py\", line 148, in __call__\n",
            "    opt = self._cls[_name](**kwds)\n",
            "  File \"/usr/local/lib/python3.10/dist-packages/pyomo/solvers/plugins/solvers/GLPK.py\", line 92, in __init__\n",
            "    SystemCallSolver.__init__(self, **kwargs)\n",
            "  File \"/usr/local/lib/python3.10/dist-packages/pyomo/opt/solver/shellcmd.py\", line 66, in __init__\n",
            "    self.set_executable(name=executable, validate=validate)\n",
            "  File \"/usr/local/lib/python3.10/dist-packages/pyomo/opt/solver/shellcmd.py\", line 115, in set_executable\n",
            "    raise ValueError(\n",
            "ValueError: Failed to set executable for solver glpk. File with name=/user/bin/glpsol either does not exist or it is not executable. To skip this validation, call set_executable with validate=False.\n"
          ]
        },
        {
          "output_type": "error",
          "ename": "ValueError",
          "evalue": "Model objective (obj) contains nonlinear terms that cannot be written to LP format",
          "traceback": [
            "\u001b[0;31m---------------------------------------------------------------------------\u001b[0m",
            "\u001b[0;31mValueError\u001b[0m                                Traceback (most recent call last)",
            "\u001b[0;32m<ipython-input-25-f904e1a5b805>\u001b[0m in \u001b[0;36m<cell line: 5>\u001b[0;34m()\u001b[0m\n\u001b[1;32m      3\u001b[0m \u001b[0;32mfrom\u001b[0m \u001b[0mpyomo\u001b[0m\u001b[0;34m.\u001b[0m\u001b[0mopt\u001b[0m \u001b[0;32mimport\u001b[0m \u001b[0mSolverFactory\u001b[0m\u001b[0;34m\u001b[0m\u001b[0;34m\u001b[0m\u001b[0m\n\u001b[1;32m      4\u001b[0m \u001b[0mopt\u001b[0m \u001b[0;34m=\u001b[0m \u001b[0mSolverFactory\u001b[0m\u001b[0;34m(\u001b[0m\u001b[0;34m'glpk'\u001b[0m\u001b[0;34m)\u001b[0m\u001b[0;34m\u001b[0m\u001b[0;34m\u001b[0m\u001b[0m\n\u001b[0;32m----> 5\u001b[0;31m \u001b[0mopt\u001b[0m\u001b[0;34m.\u001b[0m\u001b[0msolve\u001b[0m\u001b[0;34m(\u001b[0m\u001b[0mmodel\u001b[0m\u001b[0;34m,\u001b[0m \u001b[0mtee\u001b[0m\u001b[0;34m=\u001b[0m\u001b[0;32mTrue\u001b[0m\u001b[0;34m)\u001b[0m\u001b[0;34m\u001b[0m\u001b[0;34m\u001b[0m\u001b[0m\n\u001b[0m",
            "\u001b[0;32m/usr/local/lib/python3.10/dist-packages/pyomo/opt/base/solvers.py\u001b[0m in \u001b[0;36msolve\u001b[0;34m(self, *args, **kwds)\u001b[0m\n\u001b[1;32m    596\u001b[0m             \u001b[0minitial_time\u001b[0m \u001b[0;34m=\u001b[0m \u001b[0mtime\u001b[0m\u001b[0;34m.\u001b[0m\u001b[0mtime\u001b[0m\u001b[0;34m(\u001b[0m\u001b[0;34m)\u001b[0m\u001b[0;34m\u001b[0m\u001b[0;34m\u001b[0m\u001b[0m\n\u001b[1;32m    597\u001b[0m \u001b[0;34m\u001b[0m\u001b[0m\n\u001b[0;32m--> 598\u001b[0;31m             \u001b[0mself\u001b[0m\u001b[0;34m.\u001b[0m\u001b[0m_presolve\u001b[0m\u001b[0;34m(\u001b[0m\u001b[0;34m*\u001b[0m\u001b[0margs\u001b[0m\u001b[0;34m,\u001b[0m \u001b[0;34m**\u001b[0m\u001b[0mkwds\u001b[0m\u001b[0;34m)\u001b[0m\u001b[0;34m\u001b[0m\u001b[0;34m\u001b[0m\u001b[0m\n\u001b[0m\u001b[1;32m    599\u001b[0m \u001b[0;34m\u001b[0m\u001b[0m\n\u001b[1;32m    600\u001b[0m             \u001b[0mpresolve_completion_time\u001b[0m \u001b[0;34m=\u001b[0m \u001b[0mtime\u001b[0m\u001b[0;34m.\u001b[0m\u001b[0mtime\u001b[0m\u001b[0;34m(\u001b[0m\u001b[0;34m)\u001b[0m\u001b[0;34m\u001b[0m\u001b[0;34m\u001b[0m\u001b[0m\n",
            "\u001b[0;32m/usr/local/lib/python3.10/dist-packages/pyomo/opt/solver/shellcmd.py\u001b[0m in \u001b[0;36m_presolve\u001b[0;34m(self, *args, **kwds)\u001b[0m\n\u001b[1;32m    221\u001b[0m         \u001b[0mself\u001b[0m\u001b[0;34m.\u001b[0m\u001b[0m_define_signal_handlers\u001b[0m \u001b[0;34m=\u001b[0m \u001b[0mkwds\u001b[0m\u001b[0;34m.\u001b[0m\u001b[0mpop\u001b[0m\u001b[0;34m(\u001b[0m\u001b[0;34m'use_signal_handling'\u001b[0m\u001b[0;34m,\u001b[0m \u001b[0;32mNone\u001b[0m\u001b[0;34m)\u001b[0m\u001b[0;34m\u001b[0m\u001b[0;34m\u001b[0m\u001b[0m\n\u001b[1;32m    222\u001b[0m \u001b[0;34m\u001b[0m\u001b[0m\n\u001b[0;32m--> 223\u001b[0;31m         \u001b[0mOptSolver\u001b[0m\u001b[0;34m.\u001b[0m\u001b[0m_presolve\u001b[0m\u001b[0;34m(\u001b[0m\u001b[0mself\u001b[0m\u001b[0;34m,\u001b[0m \u001b[0;34m*\u001b[0m\u001b[0margs\u001b[0m\u001b[0;34m,\u001b[0m \u001b[0;34m**\u001b[0m\u001b[0mkwds\u001b[0m\u001b[0;34m)\u001b[0m\u001b[0;34m\u001b[0m\u001b[0;34m\u001b[0m\u001b[0m\n\u001b[0m\u001b[1;32m    224\u001b[0m \u001b[0;34m\u001b[0m\u001b[0m\n\u001b[1;32m    225\u001b[0m         \u001b[0;31m#\u001b[0m\u001b[0;34m\u001b[0m\u001b[0;34m\u001b[0m\u001b[0m\n",
            "\u001b[0;32m/usr/local/lib/python3.10/dist-packages/pyomo/opt/base/solvers.py\u001b[0m in \u001b[0;36m_presolve\u001b[0;34m(self, *args, **kwds)\u001b[0m\n\u001b[1;32m    702\u001b[0m             \u001b[0mwrite_start_time\u001b[0m \u001b[0;34m=\u001b[0m \u001b[0mtime\u001b[0m\u001b[0;34m.\u001b[0m\u001b[0mtime\u001b[0m\u001b[0;34m(\u001b[0m\u001b[0;34m)\u001b[0m\u001b[0;34m\u001b[0m\u001b[0;34m\u001b[0m\u001b[0m\n\u001b[1;32m    703\u001b[0m             (self._problem_files, self._problem_format, self._smap_id) = (\n\u001b[0;32m--> 704\u001b[0;31m                 self._convert_problem(\n\u001b[0m\u001b[1;32m    705\u001b[0m                     \u001b[0margs\u001b[0m\u001b[0;34m,\u001b[0m \u001b[0mself\u001b[0m\u001b[0;34m.\u001b[0m\u001b[0m_problem_format\u001b[0m\u001b[0;34m,\u001b[0m \u001b[0mself\u001b[0m\u001b[0;34m.\u001b[0m\u001b[0m_valid_problem_formats\u001b[0m\u001b[0;34m,\u001b[0m \u001b[0;34m**\u001b[0m\u001b[0mkwds\u001b[0m\u001b[0;34m\u001b[0m\u001b[0;34m\u001b[0m\u001b[0m\n\u001b[1;32m    706\u001b[0m                 )\n",
            "\u001b[0;32m/usr/local/lib/python3.10/dist-packages/pyomo/opt/base/solvers.py\u001b[0m in \u001b[0;36m_convert_problem\u001b[0;34m(self, args, problem_format, valid_problem_formats, **kwds)\u001b[0m\n\u001b[1;32m    754\u001b[0m \u001b[0;34m\u001b[0m\u001b[0m\n\u001b[1;32m    755\u001b[0m     \u001b[0;32mdef\u001b[0m \u001b[0m_convert_problem\u001b[0m\u001b[0;34m(\u001b[0m\u001b[0mself\u001b[0m\u001b[0;34m,\u001b[0m \u001b[0margs\u001b[0m\u001b[0;34m,\u001b[0m \u001b[0mproblem_format\u001b[0m\u001b[0;34m,\u001b[0m \u001b[0mvalid_problem_formats\u001b[0m\u001b[0;34m,\u001b[0m \u001b[0;34m**\u001b[0m\u001b[0mkwds\u001b[0m\u001b[0;34m)\u001b[0m\u001b[0;34m:\u001b[0m\u001b[0;34m\u001b[0m\u001b[0;34m\u001b[0m\u001b[0m\n\u001b[0;32m--> 756\u001b[0;31m         return convert_problem(\n\u001b[0m\u001b[1;32m    757\u001b[0m             \u001b[0margs\u001b[0m\u001b[0;34m,\u001b[0m \u001b[0mproblem_format\u001b[0m\u001b[0;34m,\u001b[0m \u001b[0mvalid_problem_formats\u001b[0m\u001b[0;34m,\u001b[0m \u001b[0mself\u001b[0m\u001b[0;34m.\u001b[0m\u001b[0mhas_capability\u001b[0m\u001b[0;34m,\u001b[0m \u001b[0;34m**\u001b[0m\u001b[0mkwds\u001b[0m\u001b[0;34m\u001b[0m\u001b[0;34m\u001b[0m\u001b[0m\n\u001b[1;32m    758\u001b[0m         )\n",
            "\u001b[0;32m/usr/local/lib/python3.10/dist-packages/pyomo/opt/base/convert.py\u001b[0m in \u001b[0;36mconvert_problem\u001b[0;34m(args, target_problem_type, valid_problem_types, has_capability, **kwds)\u001b[0m\n\u001b[1;32m     95\u001b[0m                     \u001b[0mtmpkw\u001b[0m \u001b[0;34m=\u001b[0m \u001b[0mkwds\u001b[0m\u001b[0;34m\u001b[0m\u001b[0;34m\u001b[0m\u001b[0m\n\u001b[1;32m     96\u001b[0m                     \u001b[0mtmpkw\u001b[0m\u001b[0;34m[\u001b[0m\u001b[0;34m'capabilities'\u001b[0m\u001b[0;34m]\u001b[0m \u001b[0;34m=\u001b[0m \u001b[0mhas_capability\u001b[0m\u001b[0;34m\u001b[0m\u001b[0;34m\u001b[0m\u001b[0m\n\u001b[0;32m---> 97\u001b[0;31m                     \u001b[0mproblem_files\u001b[0m\u001b[0;34m,\u001b[0m \u001b[0msymbol_map\u001b[0m \u001b[0;34m=\u001b[0m \u001b[0mconverter\u001b[0m\u001b[0;34m.\u001b[0m\u001b[0mapply\u001b[0m\u001b[0;34m(\u001b[0m\u001b[0;34m*\u001b[0m\u001b[0mtmp\u001b[0m\u001b[0;34m,\u001b[0m \u001b[0;34m**\u001b[0m\u001b[0mtmpkw\u001b[0m\u001b[0;34m)\u001b[0m\u001b[0;34m\u001b[0m\u001b[0;34m\u001b[0m\u001b[0m\n\u001b[0m\u001b[1;32m     98\u001b[0m                     \u001b[0;32mreturn\u001b[0m \u001b[0mproblem_files\u001b[0m\u001b[0;34m,\u001b[0m \u001b[0mptype\u001b[0m\u001b[0;34m,\u001b[0m \u001b[0msymbol_map\u001b[0m\u001b[0;34m\u001b[0m\u001b[0;34m\u001b[0m\u001b[0m\n\u001b[1;32m     99\u001b[0m \u001b[0;34m\u001b[0m\u001b[0m\n",
            "\u001b[0;32m/usr/local/lib/python3.10/dist-packages/pyomo/solvers/plugins/converter/model.py\u001b[0m in \u001b[0;36mapply\u001b[0;34m(self, *args, **kwds)\u001b[0m\n\u001b[1;32m     76\u001b[0m                     )\n\u001b[1;32m     77\u001b[0m                 \u001b[0;32melse\u001b[0m\u001b[0;34m:\u001b[0m\u001b[0;34m\u001b[0m\u001b[0;34m\u001b[0m\u001b[0m\n\u001b[0;32m---> 78\u001b[0;31m                     (problem_filename, symbol_map_id) = instance.write(\n\u001b[0m\u001b[1;32m     79\u001b[0m                         \u001b[0mfilename\u001b[0m\u001b[0;34m=\u001b[0m\u001b[0mproblem_filename\u001b[0m\u001b[0;34m,\u001b[0m\u001b[0;34m\u001b[0m\u001b[0;34m\u001b[0m\u001b[0m\n\u001b[1;32m     80\u001b[0m                         \u001b[0mformat\u001b[0m\u001b[0;34m=\u001b[0m\u001b[0mProblemFormat\u001b[0m\u001b[0;34m.\u001b[0m\u001b[0mcpxlp\u001b[0m\u001b[0;34m,\u001b[0m\u001b[0;34m\u001b[0m\u001b[0;34m\u001b[0m\u001b[0m\n",
            "\u001b[0;32m/usr/local/lib/python3.10/dist-packages/pyomo/core/base/block.py\u001b[0m in \u001b[0;36mwrite\u001b[0;34m(self, filename, format, solver_capability, io_options, int_marker)\u001b[0m\n\u001b[1;32m   1914\u001b[0m                 \u001b[0;32mreturn\u001b[0m \u001b[0;32mTrue\u001b[0m\u001b[0;34m\u001b[0m\u001b[0;34m\u001b[0m\u001b[0m\n\u001b[1;32m   1915\u001b[0m \u001b[0;34m\u001b[0m\u001b[0m\n\u001b[0;32m-> 1916\u001b[0;31m         \u001b[0;34m(\u001b[0m\u001b[0mfilename\u001b[0m\u001b[0;34m,\u001b[0m \u001b[0msmap\u001b[0m\u001b[0;34m)\u001b[0m \u001b[0;34m=\u001b[0m \u001b[0mproblem_writer\u001b[0m\u001b[0;34m(\u001b[0m\u001b[0mself\u001b[0m\u001b[0;34m,\u001b[0m \u001b[0mfilename\u001b[0m\u001b[0;34m,\u001b[0m \u001b[0msolver_capability\u001b[0m\u001b[0;34m,\u001b[0m \u001b[0mio_options\u001b[0m\u001b[0;34m)\u001b[0m\u001b[0;34m\u001b[0m\u001b[0;34m\u001b[0m\u001b[0m\n\u001b[0m\u001b[1;32m   1917\u001b[0m         \u001b[0msmap_id\u001b[0m \u001b[0;34m=\u001b[0m \u001b[0mid\u001b[0m\u001b[0;34m(\u001b[0m\u001b[0msmap\u001b[0m\u001b[0;34m)\u001b[0m\u001b[0;34m\u001b[0m\u001b[0;34m\u001b[0m\u001b[0m\n\u001b[1;32m   1918\u001b[0m         \u001b[0;32mif\u001b[0m \u001b[0;32mnot\u001b[0m \u001b[0mhasattr\u001b[0m\u001b[0;34m(\u001b[0m\u001b[0mself\u001b[0m\u001b[0;34m,\u001b[0m \u001b[0;34m'solutions'\u001b[0m\u001b[0;34m)\u001b[0m\u001b[0;34m:\u001b[0m\u001b[0;34m\u001b[0m\u001b[0;34m\u001b[0m\u001b[0m\n",
            "\u001b[0;32m/usr/local/lib/python3.10/dist-packages/pyomo/repn/plugins/lp_writer.py\u001b[0m in \u001b[0;36m__call__\u001b[0;34m(self, model, filename, solver_capability, io_options)\u001b[0m\n\u001b[1;32m    206\u001b[0m \u001b[0;34m\u001b[0m\u001b[0m\n\u001b[1;32m    207\u001b[0m         \u001b[0;32mwith\u001b[0m \u001b[0mopen\u001b[0m\u001b[0;34m(\u001b[0m\u001b[0mfilename\u001b[0m\u001b[0;34m,\u001b[0m \u001b[0;34m'w'\u001b[0m\u001b[0;34m,\u001b[0m \u001b[0mnewline\u001b[0m\u001b[0;34m=\u001b[0m\u001b[0;34m''\u001b[0m\u001b[0;34m)\u001b[0m \u001b[0;32mas\u001b[0m \u001b[0mFILE\u001b[0m\u001b[0;34m:\u001b[0m\u001b[0;34m\u001b[0m\u001b[0;34m\u001b[0m\u001b[0m\n\u001b[0;32m--> 208\u001b[0;31m             \u001b[0minfo\u001b[0m \u001b[0;34m=\u001b[0m \u001b[0mself\u001b[0m\u001b[0;34m.\u001b[0m\u001b[0mwrite\u001b[0m\u001b[0;34m(\u001b[0m\u001b[0mmodel\u001b[0m\u001b[0;34m,\u001b[0m \u001b[0mFILE\u001b[0m\u001b[0;34m,\u001b[0m \u001b[0;34m**\u001b[0m\u001b[0mio_options\u001b[0m\u001b[0;34m)\u001b[0m\u001b[0;34m\u001b[0m\u001b[0;34m\u001b[0m\u001b[0m\n\u001b[0m\u001b[1;32m    209\u001b[0m         \u001b[0;32mreturn\u001b[0m \u001b[0mfilename\u001b[0m\u001b[0;34m,\u001b[0m \u001b[0minfo\u001b[0m\u001b[0;34m.\u001b[0m\u001b[0msymbol_map\u001b[0m\u001b[0;34m\u001b[0m\u001b[0;34m\u001b[0m\u001b[0m\n\u001b[1;32m    210\u001b[0m \u001b[0;34m\u001b[0m\u001b[0m\n",
            "\u001b[0;32m/usr/local/lib/python3.10/dist-packages/pyomo/repn/plugins/lp_writer.py\u001b[0m in \u001b[0;36mwrite\u001b[0;34m(self, model, ostream, **options)\u001b[0m\n\u001b[1;32m    239\u001b[0m         \u001b[0;31m# small objects.\u001b[0m\u001b[0;34m\u001b[0m\u001b[0;34m\u001b[0m\u001b[0m\n\u001b[1;32m    240\u001b[0m         \u001b[0;32mwith\u001b[0m \u001b[0mPauseGC\u001b[0m\u001b[0;34m(\u001b[0m\u001b[0;34m)\u001b[0m\u001b[0;34m:\u001b[0m\u001b[0;34m\u001b[0m\u001b[0;34m\u001b[0m\u001b[0m\n\u001b[0;32m--> 241\u001b[0;31m             \u001b[0;32mreturn\u001b[0m \u001b[0m_LPWriter_impl\u001b[0m\u001b[0;34m(\u001b[0m\u001b[0mostream\u001b[0m\u001b[0;34m,\u001b[0m \u001b[0mconfig\u001b[0m\u001b[0;34m)\u001b[0m\u001b[0;34m.\u001b[0m\u001b[0mwrite\u001b[0m\u001b[0;34m(\u001b[0m\u001b[0mmodel\u001b[0m\u001b[0;34m)\u001b[0m\u001b[0;34m\u001b[0m\u001b[0;34m\u001b[0m\u001b[0m\n\u001b[0m\u001b[1;32m    242\u001b[0m \u001b[0;34m\u001b[0m\u001b[0m\n\u001b[1;32m    243\u001b[0m \u001b[0;34m\u001b[0m\u001b[0m\n",
            "\u001b[0;32m/usr/local/lib/python3.10/dist-packages/pyomo/repn/plugins/lp_writer.py\u001b[0m in \u001b[0;36mwrite\u001b[0;34m(self, model)\u001b[0m\n\u001b[1;32m    376\u001b[0m         \u001b[0mrepn\u001b[0m \u001b[0;34m=\u001b[0m \u001b[0mobjective_visitor\u001b[0m\u001b[0;34m.\u001b[0m\u001b[0mwalk_expression\u001b[0m\u001b[0;34m(\u001b[0m\u001b[0mobj\u001b[0m\u001b[0;34m.\u001b[0m\u001b[0mexpr\u001b[0m\u001b[0;34m)\u001b[0m\u001b[0;34m\u001b[0m\u001b[0;34m\u001b[0m\u001b[0m\n\u001b[1;32m    377\u001b[0m         \u001b[0;32mif\u001b[0m \u001b[0mrepn\u001b[0m\u001b[0;34m.\u001b[0m\u001b[0mnonlinear\u001b[0m \u001b[0;32mis\u001b[0m \u001b[0;32mnot\u001b[0m \u001b[0;32mNone\u001b[0m\u001b[0;34m:\u001b[0m\u001b[0;34m\u001b[0m\u001b[0;34m\u001b[0m\u001b[0m\n\u001b[0;32m--> 378\u001b[0;31m             raise ValueError(\n\u001b[0m\u001b[1;32m    379\u001b[0m                 \u001b[0;34mf\"Model objective ({obj.name}) contains nonlinear terms that \"\u001b[0m\u001b[0;34m\u001b[0m\u001b[0;34m\u001b[0m\u001b[0m\n\u001b[1;32m    380\u001b[0m                 \u001b[0;34m\"cannot be written to LP format\"\u001b[0m\u001b[0;34m\u001b[0m\u001b[0;34m\u001b[0m\u001b[0m\n",
            "\u001b[0;31mValueError\u001b[0m: Model objective (obj) contains nonlinear terms that cannot be written to LP format"
          ]
        }
      ]
    },
    {
      "cell_type": "code",
      "source": [
        "from pyomo.environ import *\n",
        "\n",
        "# Specify the path to the CBC executable\n",
        "solver = SolverFactory('cbc', executable='/path/to/cbc')\n",
        "results = solver.solve(model)"
      ],
      "metadata": {
        "id": "8RXG3nLhcjJA"
      },
      "execution_count": null,
      "outputs": []
    },
    {
      "cell_type": "code",
      "source": [
        "#import pandas as pd\n",
        "#from pyomo.environ import ConcreteModel, Var, Param, Constraint, Binary, NonNegativeIntegers, Objective, SolverFactory, NonNegativeReals\n",
        "\n",
        "# ... (โค้ดเดิมของคุณสำหรับการสร้างโมเดล)\n",
        "\n",
        "# แก้ไขโมเดลโดยใช้ solver\n",
        "solver = SolverFactory('glpk')  # หรือ solver อื่นๆ ที่คุณต้องการใช้\n",
        "results = solver.solve(model)\n",
        "\n",
        "# สร้าง DataFrame ว่างสำหรับเก็บตารางการทำงาน\n",
        "schedule = pd.DataFrame(index=nurses_N, columns=days)\n",
        "\n",
        "# กำหนดชื่อของผลัด\n",
        "#shifts = {1: \"เช้า\", 2: \"บ่าย\", 3: \"ดึก\"}\n",
        "\n",
        "# เติมข้อมูลลงในตาราง\n",
        "for i in nurse_N:\n",
        "    for j in days:\n",
        "        for k in days_shifts_k:\n",
        "            if model.X[i, j, k].value == 1:  # ถ้าพยาบาลทำงานในผลัดนั้น\n",
        "                schedule.at[i, j] = days_shifts_s[k]\n",
        "\n",
        "# แสดงตารางเวลา\n",
        "print(schedule)\n",
        ""
      ],
      "metadata": {
        "id": "vhus4lxxXGiy"
      },
      "execution_count": null,
      "outputs": []
    },
    {
      "cell_type": "markdown",
      "source": [
        "# ติดไว้ก่อน\n",
        "- คิดแค่NTไม่ได้เอาOTมาคิด (ทั้งตัวแปรตัดสินใจ และ ใน obj.fun\n",
        "- ตัดโรคประจะตัวออก (พยาบาล จะมี attribute : id, อายุพยาบาล, อายุงาน)"
      ],
      "metadata": {
        "id": "nLv2YNkgBw5q"
      }
    }
  ]
}