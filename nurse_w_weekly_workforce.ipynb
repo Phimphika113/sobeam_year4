{
  "nbformat": 4,
  "nbformat_minor": 0,
  "metadata": {
    "colab": {
      "provenance": [],
      "authorship_tag": "ABX9TyPv9tQuiy5rpwbCBq+58cCg",
      "include_colab_link": true
    },
    "kernelspec": {
      "name": "python3",
      "display_name": "Python 3"
    },
    "language_info": {
      "name": "python"
    }
  },
  "cells": [
    {
      "cell_type": "markdown",
      "metadata": {
        "id": "view-in-github",
        "colab_type": "text"
      },
      "source": [
        "<a href=\"https://colab.research.google.com/github/Phimphika113/sobeam_year4/blob/main/nurse_w_weekly_workforce.ipynb\" target=\"_parent\"><img src=\"https://colab.research.google.com/assets/colab-badge.svg\" alt=\"Open In Colab\"/></a>"
      ]
    },
    {
      "cell_type": "code",
      "source": [
        "!pip install -q pyomo ## ติดตั้ง Pyomo\n",
        "!apt-get install -y glpk-utils  ##Solver"
      ],
      "metadata": {
        "colab": {
          "base_uri": "https://localhost:8080/"
        },
        "id": "tYFbcKEBduR5",
        "outputId": "d05968e3-e781-4a3a-c92c-f4ff90cbeec3"
      },
      "execution_count": 1,
      "outputs": [
        {
          "output_type": "stream",
          "name": "stdout",
          "text": [
            "\u001b[2K   \u001b[90m━━━━━━━━━━━━━━━━━━━━━━━━━━━━━━━━━━━━━━━━\u001b[0m \u001b[32m13.3/13.3 MB\u001b[0m \u001b[31m22.4 MB/s\u001b[0m eta \u001b[36m0:00:00\u001b[0m\n",
            "\u001b[2K   \u001b[90m━━━━━━━━━━━━━━━━━━━━━━━━━━━━━━━━━━━━━━━━\u001b[0m \u001b[32m49.6/49.6 kB\u001b[0m \u001b[31m1.8 MB/s\u001b[0m eta \u001b[36m0:00:00\u001b[0m\n",
            "Reading package lists... Done\n",
            "Building dependency tree... Done\n",
            "Reading state information... Done\n",
            "The following additional packages will be installed:\n",
            "  libamd2 libcolamd2 libglpk40 libsuitesparseconfig5\n",
            "Suggested packages:\n",
            "  libiodbc2-dev\n",
            "The following NEW packages will be installed:\n",
            "  glpk-utils libamd2 libcolamd2 libglpk40 libsuitesparseconfig5\n",
            "0 upgraded, 5 newly installed, 0 to remove and 49 not upgraded.\n",
            "Need to get 625 kB of archives.\n",
            "After this operation, 2,158 kB of additional disk space will be used.\n",
            "Get:1 http://archive.ubuntu.com/ubuntu jammy/main amd64 libsuitesparseconfig5 amd64 1:5.10.1+dfsg-4build1 [10.4 kB]\n",
            "Get:2 http://archive.ubuntu.com/ubuntu jammy/universe amd64 libamd2 amd64 1:5.10.1+dfsg-4build1 [21.6 kB]\n",
            "Get:3 http://archive.ubuntu.com/ubuntu jammy/main amd64 libcolamd2 amd64 1:5.10.1+dfsg-4build1 [18.0 kB]\n",
            "Get:4 http://archive.ubuntu.com/ubuntu jammy/universe amd64 libglpk40 amd64 5.0-1 [361 kB]\n",
            "Get:5 http://archive.ubuntu.com/ubuntu jammy/universe amd64 glpk-utils amd64 5.0-1 [214 kB]\n",
            "Fetched 625 kB in 1s (725 kB/s)\n",
            "Selecting previously unselected package libsuitesparseconfig5:amd64.\n",
            "(Reading database ... 123597 files and directories currently installed.)\n",
            "Preparing to unpack .../libsuitesparseconfig5_1%3a5.10.1+dfsg-4build1_amd64.deb ...\n",
            "Unpacking libsuitesparseconfig5:amd64 (1:5.10.1+dfsg-4build1) ...\n",
            "Selecting previously unselected package libamd2:amd64.\n",
            "Preparing to unpack .../libamd2_1%3a5.10.1+dfsg-4build1_amd64.deb ...\n",
            "Unpacking libamd2:amd64 (1:5.10.1+dfsg-4build1) ...\n",
            "Selecting previously unselected package libcolamd2:amd64.\n",
            "Preparing to unpack .../libcolamd2_1%3a5.10.1+dfsg-4build1_amd64.deb ...\n",
            "Unpacking libcolamd2:amd64 (1:5.10.1+dfsg-4build1) ...\n",
            "Selecting previously unselected package libglpk40:amd64.\n",
            "Preparing to unpack .../libglpk40_5.0-1_amd64.deb ...\n",
            "Unpacking libglpk40:amd64 (5.0-1) ...\n",
            "Selecting previously unselected package glpk-utils.\n",
            "Preparing to unpack .../glpk-utils_5.0-1_amd64.deb ...\n",
            "Unpacking glpk-utils (5.0-1) ...\n",
            "Setting up libsuitesparseconfig5:amd64 (1:5.10.1+dfsg-4build1) ...\n",
            "Setting up libamd2:amd64 (1:5.10.1+dfsg-4build1) ...\n",
            "Setting up libcolamd2:amd64 (1:5.10.1+dfsg-4build1) ...\n",
            "Setting up libglpk40:amd64 (5.0-1) ...\n",
            "Setting up glpk-utils (5.0-1) ...\n",
            "Processing triggers for man-db (2.10.2-1) ...\n",
            "Processing triggers for libc-bin (2.35-0ubuntu3.4) ...\n",
            "/sbin/ldconfig.real: /usr/local/lib/libtbbbind_2_0.so.3 is not a symbolic link\n",
            "\n",
            "/sbin/ldconfig.real: /usr/local/lib/libtbbmalloc.so.2 is not a symbolic link\n",
            "\n",
            "/sbin/ldconfig.real: /usr/local/lib/libtbbbind_2_5.so.3 is not a symbolic link\n",
            "\n",
            "/sbin/ldconfig.real: /usr/local/lib/libur_loader.so.0 is not a symbolic link\n",
            "\n",
            "/sbin/ldconfig.real: /usr/local/lib/libur_adapter_level_zero.so.0 is not a symbolic link\n",
            "\n",
            "/sbin/ldconfig.real: /usr/local/lib/libtbbmalloc_proxy.so.2 is not a symbolic link\n",
            "\n",
            "/sbin/ldconfig.real: /usr/local/lib/libur_adapter_opencl.so.0 is not a symbolic link\n",
            "\n",
            "/sbin/ldconfig.real: /usr/local/lib/libtbbbind.so.3 is not a symbolic link\n",
            "\n",
            "/sbin/ldconfig.real: /usr/local/lib/libtbb.so.12 is not a symbolic link\n",
            "\n"
          ]
        }
      ]
    },
    {
      "cell_type": "code",
      "execution_count": 2,
      "metadata": {
        "id": "1LdS175TdRR8"
      },
      "outputs": [],
      "source": [
        "from pyomo.environ import *\n",
        "from pyomo.opt import SolverFactory"
      ]
    },
    {
      "cell_type": "markdown",
      "source": [
        "# Define model parameters"
      ],
      "metadata": {
        "id": "6SrPRK0tdWy5"
      }
    },
    {
      "cell_type": "code",
      "source": [
        "# Define days\n",
        "days = range(1, 31) # เซตวันแต่ละเดือน 31 วัน\n",
        "\n",
        "# Enter shifts of each day\n",
        "shifts_s = ['morning', 'evening', 'night']  # เซตผลัด\n",
        "days_shifts_k = {day: shifts_s for day in days}  #ดัชนีผลัด\n",
        "\n",
        "# Enter nurse ids (name, number, ...)\n",
        "nurse_N = range(1, 18)  # เซตพยาบาล 17 คน\n",
        "\n",
        "# Age  of nurse\n",
        "age_nurse_R = [0] * 17  # เริ่มต้นด้วย 0\n",
        "age_nurse_R[0] = 2 # ตั้งค่าตัวที่ 1 และ 2 เป็น 2\n",
        "age_nurse_R[1] = 2\n",
        "for i in range(2, 17): # ตั้งค่าตัวที่ 3 ถึง 17 เป็น 1\n",
        "    age_nurse_R[i] = 1\n",
        "\n",
        "# Age  of nurse\n",
        "#import numpy as np #เซตอายุของพยาบาล\n",
        "#age_nurse_R = np.ones(17) #สร้างอาเรย์ยาว 17 และค่าเริ่มต้นเป็น 1\n",
        "#age_nurse_R[0] = 2 #ค่าตัวที่ 1 และ 2 เป็น 2\n",
        "#age_nurse_R[1] = 2\n",
        "\n",
        "# ข้อมูลการมีโรคประจำตัว (มีแค่พยบ 1 คน แล้วตัดออกแล้ว)\n",
        "#Disease_nurse = np.zeros(17) #สร้างอาเรย์ยาว 17 และค่าเริ่มต้นเป็น 0\n",
        "#Disease_nurse[0] = 1 #ค่าตัวที่ 1 และ 2 เป็น 2\n",
        "#Disease_nurse[1] = 1\n",
        "\n",
        "#กำหนดอายุงานพยาบาล\n",
        "# เซตอายุงานพยาบาล\n",
        "work_experience_L = {1: 18,\n",
        "                              2: 18,\n",
        "                              3: 15,\n",
        "                              4: 14,\n",
        "                              5: 14,\n",
        "                              6: 12,\n",
        "                              7: 15,\n",
        "                              8: 10,\n",
        "                              9: 9,\n",
        "                              10: 12,\n",
        "                              11: 10,\n",
        "                              12: 9,\n",
        "                              13: 8,\n",
        "                              14: 6,\n",
        "                              15: 1,\n",
        "                              16: 1,\n",
        "                              17: 1}"
      ],
      "metadata": {
        "id": "FgavrxB3dcuO"
      },
      "execution_count": 54,
      "outputs": []
    },
    {
      "cell_type": "code",
      "source": [
        "# Create a DataFrame to store nurse information\n",
        "import pandas as pd\n",
        "df_nurse = pd.DataFrame ({'Nurse_ID': nurse_N,\n",
        "                          'Age': age_nurse_R,\n",
        "                          'Work_Experience': [work_experience_L[i+1] for i in range(17)]})\n",
        "\n",
        "# Display the DataFrame\n",
        "print(df_nurse.to_string(index=False))"
      ],
      "metadata": {
        "collapsed": true,
        "id": "MgTAqKs6DaQq",
        "outputId": "6242b51c-ef41-4baa-a662-3ae4d32f420b",
        "colab": {
          "base_uri": "https://localhost:8080/"
        }
      },
      "execution_count": 42,
      "outputs": [
        {
          "output_type": "stream",
          "name": "stdout",
          "text": [
            " Nurse_ID  Age  Work_Experience\n",
            "        1    2               18\n",
            "        2    2               18\n",
            "        3    1               15\n",
            "        4    1               14\n",
            "        5    1               14\n",
            "        6    1               12\n",
            "        7    1               15\n",
            "        8    1               10\n",
            "        9    1                9\n",
            "       10    1               12\n",
            "       11    1               10\n",
            "       12    1                9\n",
            "       13    1                8\n",
            "       14    1                6\n",
            "       15    1                1\n",
            "       16    1                1\n",
            "       17    1                1\n"
          ]
        }
      ]
    },
    {
      "cell_type": "markdown",
      "source": [
        "#Initialize model and variables\n"
      ],
      "metadata": {
        "id": "pJfLToTfgg_a"
      }
    },
    {
      "cell_type": "code",
      "source": [
        "# Initialize model\n",
        "model = ConcreteModel()\n",
        "\n",
        "# binary variables แสดงการได้รับตารางงานของพยาบาล (Normaltime)\n",
        "model.nurse_work_X = Var(((i, j, k) for i in nurse_N for j in days for k in days_shifts_k[j]),\n",
        "                  within=Binary, initialize=0)\n",
        "# model.nurse_work_Z = Var(((nurse, day, shift) for nurse in nurse_N for day in days for shift in days_shifts_k[day]),\n",
        "#                 within=Binary, initialize=0)  # ตัวแปรการทำงานในผลัดล่วงเวลา\n"
      ],
      "metadata": {
        "id": "z6RYJEEozaoa"
      },
      "execution_count": 55,
      "outputs": []
    },
    {
      "cell_type": "markdown",
      "source": [
        "#Define the objective function"
      ],
      "metadata": {
        "id": "abDdgS8B3I-l"
      }
    },
    {
      "cell_type": "code",
      "source": [
        "# Define an objective function with model as input, to pass later\n",
        "def obj_fun(NT):\n",
        "  model.NT = sum(model.nurse_work_X[i, j, k] for i in nurse_N for j in days for k in days_shifts_k[j])  # ผลัดการทำงานทั้งหมดของพยาบาล i ในรอบ 1 เดือน\n",
        "  alpha = model.NT / len(nurse_N)  # avg of NT, use model.NT here\n",
        "  differ_NT =   model.NT- alpha\n",
        "  return sum(((m.NT[nurse_N] for i in nurse_N) - alpha)*((m.NT[nurse_N] for i in nurse_N) - alpha))\n",
        "\n",
        "# add objective function to the model. rule (pass function) or expr (pass expression directly)\n",
        "model.obj = Objective(rule=obj_fun, sense=minimize)"
      ],
      "metadata": {
        "id": "wjWEap4-h0ru"
      },
      "execution_count": null,
      "outputs": []
    },
    {
      "cell_type": "code",
      "source": [
        "# Define an objective function with model as input, to pass later\n",
        "def obj_fun(NT):\n",
        "  model.NT = sum(model.nurse_work_X[i, j, k] for i in nurse_N for j in days for k in days_shifts_k[j])  # ผลัดการทำงานทั้งหมดของพยาบาล i ในรอบ 1 เดือน\n",
        "  alpha = model.NT / len(nurse_N)  # avg of NT, use model.NT here\n",
        "  differ_NT = model.NT- alpha\n",
        "  return sum(differ_NT**2 for _ in nurse_N) # Square the difference and sum over all nurses\n",
        "\n",
        "# add objective function to the model. rule (pass function) or expr (pass expression directly)\n",
        "model.obj = Objective(rule=obj_fun, sense=minimize)"
      ],
      "metadata": {
        "id": "fpGmgvziiAoY",
        "outputId": "0cee4889-7bb8-4eea-981c-b2f545c773ce",
        "colab": {
          "base_uri": "https://localhost:8080/"
        }
      },
      "execution_count": 71,
      "outputs": [
        {
          "output_type": "stream",
          "name": "stderr",
          "text": [
            "WARNING:pyomo.core:Implicitly replacing the Component attribute obj (type=<class 'pyomo.core.base.objective.ScalarObjective'>) on block unknown with a new Component (type=<class 'pyomo.core.base.objective.ScalarObjective'>).\n",
            "This is usually indicative of a modelling error.\n",
            "To avoid this warning, use block.del_component() and block.add_component().\n"
          ]
        }
      ]
    },
    {
      "cell_type": "markdown",
      "source": [
        "#Model constraints"
      ],
      "metadata": {
        "id": "skskUbk95r9a"
      }
    },
    {
      "cell_type": "code",
      "source": [],
      "metadata": {
        "id": "as7A9-3m5uLV"
      },
      "execution_count": null,
      "outputs": []
    }
  ]
}